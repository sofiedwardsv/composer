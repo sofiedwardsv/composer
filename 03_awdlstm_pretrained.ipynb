{
 "cells": [
  {
   "cell_type": "markdown",
   "metadata": {},
   "source": [
    "# AWD-LSTM with target language model pretraining"
   ]
  },
  {
   "cell_type": "markdown",
   "metadata": {},
   "source": [
    "In this notebook we train an AWD-LSTM model for the proxy task with language model pretraining on the target data.  This notebook has been adapted from the fast.ai [ULMFit tutorial](https://github.com/fastai/course-nlp/blob/master/nn-vietnamese.ipynb)."
   ]
  },
  {
   "cell_type": "code",
   "execution_count": 1,
   "metadata": {},
   "outputs": [],
   "source": [
    "%reload_ext autoreload\n",
    "%autoreload 2\n",
    "%matplotlib inline\n",
    "\n",
    "from fastai import *\n",
    "from fastai.text import *\n",
    "import glob\n",
    "import eval_models"
   ]
  },
  {
   "cell_type": "code",
   "execution_count": 2,
   "metadata": {},
   "outputs": [],
   "source": [
    "bs=48"
   ]
  },
  {
   "cell_type": "code",
   "execution_count": 3,
   "metadata": {},
   "outputs": [],
   "source": [
    "torch.cuda.set_device(1)"
   ]
  },
  {
   "cell_type": "code",
   "execution_count": 4,
   "metadata": {},
   "outputs": [],
   "source": [
    "data_path = Config.data_path()"
   ]
  },
  {
   "cell_type": "code",
   "execution_count": 5,
   "metadata": {},
   "outputs": [],
   "source": [
    "name = 'bscore_lm'\n",
    "path = data_path/name\n",
    "path.mkdir(exist_ok=True, parents=True)"
   ]
  },
  {
   "cell_type": "markdown",
   "metadata": {
    "heading_collapsed": true
   },
   "source": [
    "### Target Language Model"
   ]
  },
  {
   "cell_type": "code",
   "execution_count": 8,
   "metadata": {},
   "outputs": [],
   "source": [
    "data = load_data(path, 'lm_target_databunch', bs=bs)"
   ]
  },
  {
   "cell_type": "code",
   "execution_count": 7,
   "metadata": {},
   "outputs": [],
   "source": [
    "learn = language_model_learner(data, AWD_LSTM, drop_mult=0.5, pretrained=False)"
   ]
  },
  {
   "cell_type": "code",
   "execution_count": 8,
   "metadata": {},
   "outputs": [
    {
     "data": {
      "text/html": [],
      "text/plain": [
       "<IPython.core.display.HTML object>"
      ]
     },
     "metadata": {},
     "output_type": "display_data"
    },
    {
     "name": "stdout",
     "output_type": "stream",
     "text": [
      "LR Finder is complete, type {learner_name}.recorder.plot() to see the graph.\n"
     ]
    }
   ],
   "source": [
    "learn.lr_find()"
   ]
  },
  {
   "cell_type": "code",
   "execution_count": 9,
   "metadata": {},
   "outputs": [
    {
     "data": {
      "image/png": "[encoded data removed]",
      "text/plain": [
       "<Figure size 432x288 with 1 Axes>"
      ]
     },
     "metadata": {
      "needs_background": "light"
     },
     "output_type": "display_data"
    }
   ],
   "source": [
    "learn.recorder.plot()"
   ]
  },
  {
   "cell_type": "code",
   "execution_count": 10,
   "metadata": {},
   "outputs": [],
   "source": [
    "lr = 3e-3"
   ]
  },
  {
   "cell_type": "code",
   "execution_count": 11,
   "metadata": {},
   "outputs": [
    {
     "data": {
      "text/html": [
       "<table border=\"1\" class=\"dataframe\">\n",
       "  <thead>\n",
       "    <tr style=\"text-align: left;\">\n",
       "      <th>epoch</th>\n",
       "      <th>train_loss</th>\n",
       "      <th>valid_loss</th>\n",
       "      <th>accuracy</th>\n",
       "      <th>time</th>\n",
       "    </tr>\n",
       "  </thead>\n",
       "  <tbody>\n",
       "    <tr>\n",
       "      <td>0</td>\n",
       "      <td>6.418994</td>\n",
       "      <td>6.158412</td>\n",
       "      <td>0.090464</td>\n",
       "      <td>00:43</td>\n",
       "    </tr>\n",
       "  </tbody>\n",
       "</table>"
      ],
      "text/plain": [
       "<IPython.core.display.HTML object>"
      ]
     },
     "metadata": {},
     "output_type": "display_data"
    }
   ],
   "source": [
    "learn.unfreeze()\n",
    "learn.fit_one_cycle(1, lr, moms=(0.8,0.7))"
   ]
  },
  {
   "cell_type": "code",
   "execution_count": 12,
   "metadata": {},
   "outputs": [
    {
     "data": {
      "text/html": [
       "<table border=\"1\" class=\"dataframe\">\n",
       "  <thead>\n",
       "    <tr style=\"text-align: left;\">\n",
       "      <th>epoch</th>\n",
       "      <th>train_loss</th>\n",
       "      <th>valid_loss</th>\n",
       "      <th>accuracy</th>\n",
       "      <th>time</th>\n",
       "    </tr>\n",
       "  </thead>\n",
       "  <tbody>\n",
       "    <tr>\n",
       "      <td>0</td>\n",
       "      <td>6.232464</td>\n",
       "      <td>5.987888</td>\n",
       "      <td>0.092298</td>\n",
       "      <td>00:43</td>\n",
       "    </tr>\n",
       "    <tr>\n",
       "      <td>1</td>\n",
       "      <td>5.692654</td>\n",
       "      <td>5.537110</td>\n",
       "      <td>0.106724</td>\n",
       "      <td>00:44</td>\n",
       "    </tr>\n",
       "    <tr>\n",
       "      <td>2</td>\n",
       "      <td>5.378707</td>\n",
       "      <td>5.241349</td>\n",
       "      <td>0.119722</td>\n",
       "      <td>00:44</td>\n",
       "    </tr>\n",
       "    <tr>\n",
       "      <td>3</td>\n",
       "      <td>5.192502</td>\n",
       "      <td>5.079218</td>\n",
       "      <td>0.129100</td>\n",
       "      <td>00:44</td>\n",
       "    </tr>\n",
       "    <tr>\n",
       "      <td>4</td>\n",
       "      <td>5.003329</td>\n",
       "      <td>4.969933</td>\n",
       "      <td>0.138842</td>\n",
       "      <td>00:44</td>\n",
       "    </tr>\n",
       "    <tr>\n",
       "      <td>5</td>\n",
       "      <td>4.789033</td>\n",
       "      <td>4.901761</td>\n",
       "      <td>0.149162</td>\n",
       "      <td>00:44</td>\n",
       "    </tr>\n",
       "    <tr>\n",
       "      <td>6</td>\n",
       "      <td>4.687139</td>\n",
       "      <td>4.877192</td>\n",
       "      <td>0.153778</td>\n",
       "      <td>00:44</td>\n",
       "    </tr>\n",
       "    <tr>\n",
       "      <td>7</td>\n",
       "      <td>4.497009</td>\n",
       "      <td>4.855902</td>\n",
       "      <td>0.159633</td>\n",
       "      <td>00:44</td>\n",
       "    </tr>\n",
       "    <tr>\n",
       "      <td>8</td>\n",
       "      <td>4.444776</td>\n",
       "      <td>4.852241</td>\n",
       "      <td>0.161407</td>\n",
       "      <td>00:44</td>\n",
       "    </tr>\n",
       "    <tr>\n",
       "      <td>9</td>\n",
       "      <td>4.371453</td>\n",
       "      <td>4.852464</td>\n",
       "      <td>0.162397</td>\n",
       "      <td>00:44</td>\n",
       "    </tr>\n",
       "  </tbody>\n",
       "</table>"
      ],
      "text/plain": [
       "<IPython.core.display.HTML object>"
      ]
     },
     "metadata": {},
     "output_type": "display_data"
    }
   ],
   "source": [
    "learn.fit_one_cycle(10, lr, moms=(0.8,0.7))"
   ]
  },
  {
   "cell_type": "code",
   "execution_count": 13,
   "metadata": {},
   "outputs": [
    {
     "data": {
      "text/html": [
       "<table border=\"1\" class=\"dataframe\">\n",
       "  <thead>\n",
       "    <tr style=\"text-align: left;\">\n",
       "      <th>epoch</th>\n",
       "      <th>train_loss</th>\n",
       "      <th>valid_loss</th>\n",
       "      <th>accuracy</th>\n",
       "      <th>time</th>\n",
       "    </tr>\n",
       "  </thead>\n",
       "  <tbody>\n",
       "    <tr>\n",
       "      <td>0</td>\n",
       "      <td>4.468607</td>\n",
       "      <td>4.883133</td>\n",
       "      <td>0.158971</td>\n",
       "      <td>00:44</td>\n",
       "    </tr>\n",
       "    <tr>\n",
       "      <td>1</td>\n",
       "      <td>4.587149</td>\n",
       "      <td>4.859475</td>\n",
       "      <td>0.168562</td>\n",
       "      <td>00:45</td>\n",
       "    </tr>\n",
       "    <tr>\n",
       "      <td>2</td>\n",
       "      <td>4.397340</td>\n",
       "      <td>4.839676</td>\n",
       "      <td>0.173949</td>\n",
       "      <td>00:44</td>\n",
       "    </tr>\n",
       "    <tr>\n",
       "      <td>3</td>\n",
       "      <td>4.143680</td>\n",
       "      <td>4.829211</td>\n",
       "      <td>0.181681</td>\n",
       "      <td>00:44</td>\n",
       "    </tr>\n",
       "    <tr>\n",
       "      <td>4</td>\n",
       "      <td>4.000579</td>\n",
       "      <td>4.834455</td>\n",
       "      <td>0.182787</td>\n",
       "      <td>00:45</td>\n",
       "    </tr>\n",
       "  </tbody>\n",
       "</table>"
      ],
      "text/plain": [
       "<IPython.core.display.HTML object>"
      ]
     },
     "metadata": {},
     "output_type": "display_data"
    }
   ],
   "source": [
    "learn.fit_one_cycle(5, lr, moms=(0.8,0.7))"
   ]
  },
  {
   "cell_type": "code",
   "execution_count": 14,
   "metadata": {},
   "outputs": [
    {
     "data": {
      "text/html": [
       "<table border=\"1\" class=\"dataframe\">\n",
       "  <thead>\n",
       "    <tr style=\"text-align: left;\">\n",
       "      <th>epoch</th>\n",
       "      <th>train_loss</th>\n",
       "      <th>valid_loss</th>\n",
       "      <th>accuracy</th>\n",
       "      <th>time</th>\n",
       "    </tr>\n",
       "  </thead>\n",
       "  <tbody>\n",
       "    <tr>\n",
       "      <td>0</td>\n",
       "      <td>4.069560</td>\n",
       "      <td>4.861272</td>\n",
       "      <td>0.179203</td>\n",
       "      <td>00:43</td>\n",
       "    </tr>\n",
       "    <tr>\n",
       "      <td>1</td>\n",
       "      <td>4.254498</td>\n",
       "      <td>4.859226</td>\n",
       "      <td>0.182392</td>\n",
       "      <td>00:50</td>\n",
       "    </tr>\n",
       "    <tr>\n",
       "      <td>2</td>\n",
       "      <td>4.030057</td>\n",
       "      <td>4.854494</td>\n",
       "      <td>0.188126</td>\n",
       "      <td>01:22</td>\n",
       "    </tr>\n",
       "    <tr>\n",
       "      <td>3</td>\n",
       "      <td>3.881100</td>\n",
       "      <td>4.858012</td>\n",
       "      <td>0.192620</td>\n",
       "      <td>01:00</td>\n",
       "    </tr>\n",
       "    <tr>\n",
       "      <td>4</td>\n",
       "      <td>3.643204</td>\n",
       "      <td>4.867604</td>\n",
       "      <td>0.192845</td>\n",
       "      <td>01:23</td>\n",
       "    </tr>\n",
       "  </tbody>\n",
       "</table>"
      ],
      "text/plain": [
       "<IPython.core.display.HTML object>"
      ]
     },
     "metadata": {},
     "output_type": "display_data"
    }
   ],
   "source": [
    "learn.fit_one_cycle(5, lr, moms=(0.8,0.7))"
   ]
  },
  {
   "cell_type": "code",
   "execution_count": 12,
   "metadata": {},
   "outputs": [],
   "source": [
    "mdl_path = path/'models'\n",
    "mdl_path.mkdir(exist_ok=True)"
   ]
  },
  {
   "cell_type": "code",
   "execution_count": 10,
   "metadata": {},
   "outputs": [],
   "source": [
    "model_basename = 'awdlstm_train-target_lm'\n",
    "learn.save(mdl_path/f'{model_basename}_wt', with_opt=False)\n",
    "learn.data.vocab.save(mdl_path/f'{model_basename}_vocab.pkl')\n",
    "learn.save_encoder(mdl_path/f'{model_basename}enc')"
   ]
  },
  {
   "cell_type": "markdown",
   "metadata": {},
   "source": [
    "### Train Classifier"
   ]
  },
  {
   "cell_type": "code",
   "execution_count": 6,
   "metadata": {},
   "outputs": [],
   "source": [
    "train_df = pd.read_csv(path/'train64.csv')\n",
    "valid_df = pd.read_csv(path/'valid64.csv')\n",
    "test_df = pd.read_csv(path/'test64.csv')"
   ]
  },
  {
   "cell_type": "code",
   "execution_count": 9,
   "metadata": {},
   "outputs": [
    {
     "data": {
      "text/html": [],
      "text/plain": [
       "<IPython.core.display.HTML object>"
      ]
     },
     "metadata": {},
     "output_type": "display_data"
    },
    {
     "data": {
      "text/html": [],
      "text/plain": [
       "<IPython.core.display.HTML object>"
      ]
     },
     "metadata": {},
     "output_type": "display_data"
    }
   ],
   "source": [
    "basicTokenizer = Tokenizer(pre_rules=[], post_rules=[])\n",
    "data_clas = TextDataBunch.from_df(path, train_df, valid_df, tokenizer=basicTokenizer,\n",
    "                                  vocab = data.vocab, bs=bs, num_workers=1)"
   ]
  },
  {
   "cell_type": "code",
   "execution_count": 10,
   "metadata": {},
   "outputs": [],
   "source": [
    "learn_c = text_classifier_learner(data_clas, AWD_LSTM, pretrained=False, drop_mult=0.5, \n",
    "                                  metrics=[accuracy, FBeta(average='macro', beta=1)])"
   ]
  },
  {
   "cell_type": "code",
   "execution_count": 17,
   "metadata": {},
   "outputs": [
    {
     "data": {
      "text/plain": [
       "RNNLearner(data=TextClasDataBunch;\n",
       "\n",
       "Train: LabelList (32400 items)\n",
       "x: TextList\n",
       "xxbos 2199023255552 8796097216512 8796093022208 1134696000913408 281474976710656 8388608 34359738368 137438953472 1099511627776 4398048608256 4398046511104 8796093546496 1099511627776 1099512676352 549755813888 2199023386624 68719542272 137438986240 16384 8192 4096 2048 137438953472 1099511627776 4398046511104 17592186306560 17592186044416 17592186109952 70368744177664 549755944960 68719476736 549755813888 8796109799424 8796093022208 4194304 281474976710656 5497558138880 274877906944 8388608 4398046511104 17592186044416 140737488355328 262144 1099511627776 4398046511104 17592186044416 1048576 8796093022208 2199023255552 549755813888 1271310319616 65536 262144 1048576 8388608 8388608 8388608 8192 32768 131072 1048576 1048576 1099512676352 549755813888,xxbos 2748779331584 524288 262144 64 16384 5497558401024 524288 262144 21990240944128 262144 5497558663168 262160 5497558147072 2748779331584 524288 262144 16777216 2748779331584 524288 262160 584115560448 262144 524288 262144 1374406311936 584115814400 524288 262208 146046713856 8590458880 70368744177664 4398046806016 16384 2748779069440 283467857920 262144 524288 262144 584123940864 137439215616 1374390059008 262176 2473901195264 4672928612352 8388608 4194304 9070987706368 17867068145664 8388608 4194304 256 687195029504 4194304 8388608 4194304 33554432 687198961664 8388608 4194304 1236950597632 1099511627776 2336464306176 4194304 2097152,xxbos 137438953472 512 154618822912 309237645312 1382979993600 4398047166464 17179869184 xxunk 1099511889920 xxunk 1099511889920 xxunk 1236950614016 xxunk 8256 16512 2199023255552 xxunk 1099511889920 17592186044416 xxunk 1099511758848 xxunk xxunk xxunk xxunk 22539988377664 73728 2765958938656 xxunk 1099511889920 xxunk 549755944960 xxunk 137439248384 42949705984 xxunk 687194931200 171798691840 xxunk xxunk 1099511889920 158914846720 549756076032 32768 313542049792 2482491621376 4398046511104 77309952000 42950729728 17179869184 34360786944 68720066560 137439215616 283467845632 141733928960 8589934592 32768 77309952000 42950729728 17179869184 34360918016 68720066560 137439215616,xxbos 65536 32768 2097152 262144 65536 34359738400 17179870208 2147483648 708669603904 1099511627776 17593259786240 137438953472 17179869184 4294967296 8796629893120 68719476736 17179869184 4294967296 17593259786240 137438953472 17179869184 4294967296 140746078289920 1099511627776 137438953472 34359738368 70373039144960 687194767360 34359738368 35186519572480 274877906944 34359738368 8589934592 1073741824 137438953472 17626545782784 8589934592 17592186052608 137438953472 8589934592 2147483648 8796629893120 68719476736 8589934592 2147483648 4398046773248 34359738368 8589934592 2147483648 8796093546496 68719476736 8589934592 2147483648 2757369593856 549756338176 2147483648 274877906944 8589934592 2147483648 524288 68719476736 8589934592 2147483648 131072,xxbos 35651584 3023657500672 8796093284352 549755813888 137438953472 131072 4112 528384 2113536 8454144 262144 xxunk 528384 2113536 8454144 33816576 39857296506880 8796093022208 22127671517248 85196800 76808192 xxunk 85196800 76808192 xxunk 76808192 85196800 xxunk 85196800 76808192 xxunk 77594624 77594624 77594624 2199023255552 17592186109952 xxunk 70368744177664 40681930301952 1056768 1056768 132096 8256 xxunk 274877906944 2473901162496 524288 524288 1212416 xxunk 2064 16908288 1032 16908288 22159424 33816576 33816576 4227072 264192 33024 1048576 1048576 2097152 xxunk\n",
       "y: CategoryList\n",
       "Mozart,Chopin,Schumann,Schumann,Liszt\n",
       "Path: /home/tjtsai/.fastai/data/bscore_lm;\n",
       "\n",
       "Valid: LabelList (10800 items)\n",
       "x: TextList\n",
       "xxbos 35184372613120 2147483648 70368745226240 2147483648 8796095119360 2147483648 8796095119360 2147483648 8796095119360 2147483648 4398046511616 2048 4398046511616 2048 4398046511616 2048 2199023256576 16384 2199023256576 16384 2199023256576 16384 274877908992 8192 274877908992 8192 274877908992 8192 1024 549755813888 1099511627776 2199023255552 4398046511104 8796093022208 524288 17592186044416 549755814912 1099511629824 2199023259648 4398046519296 8796093038592 17592186077184 2199023271936 1099511635968 2199023271936 4398046543872 8796093087744 17592186175488 8796093038592 2199023259648 549760008192 68720001024 17180000256 2048 343597383680 171798691840 18141941858304 4535486775296 2267745353728 43980465111040 21990232555520 10995116277760 175921860449280 43980465131520,xxbos xxunk 2199585292288 2199585292288 35459249995776 xxunk xxunk 2199581097984 70918499991552 37383395872768 37383414218752 xxunk 90709709555712 19791361343488 19791361343488 159429329682432 xxunk xxunk 159429186291712 xxunk xxunk 159429186027520 70368744309760 xxunk xxunk 87962159153152 1134695999864832 87962159153152 87962159153152 1134695999864832 87962159153152 87962159153152 1134695999864832 87962159153152 1275433488220160 17592186176512 xxunk xxunk 567347999932416 301266187067392 141836999983104 17729624997888 xxunk 2284922601472 1108101562368 4982166323200 554050785312 262144 1108101562368 xxunk 4128 4128 xxunk 554050789440 17179869184 277025394720 549755813888 1245541580800 138512697360 65536 277025390592 xxunk 516 xxunk xxunk,xxbos 8589934592 17182228480 4096 4608 8589934592 8592293888 17179869184 34361966592 4112 512 2228224 34359742464 2748779069952 2491081031680 8589934592 17182031872 xxunk 34359738368 17182031872 34359738368 17181966336 34359738368 17181966336 34359738368 68723802112 32 256 4096 131072 4194304 274877906944 274877906944 137438953472 137438953472 68719476736 34359738368 73050095616 8589951104 4398046511104 1099511627776 8589951104 xxunk 1099511627776 274877906944 17179869216 xxunk 2199023255552 71468255805440 549757911040 4194304 1048576 17180954624 17179869184 xxunk 549755813888 549755813888 137438953472 137438953472 262144 xxunk 68720001024 274877923456 140737488355328 35184372088832,xxbos 1236984135680 1099511627776 1099511627776 1099511889920 8388608 262144 549764202496 274878169088 137447342080 137439477760 8388608 274878431232 8388608 140737490452480 8388608 140737488355328 141837000245248 8388608 262144 283674008354816 141837000245248 70918508380160 1074266112 70918500515840 8388608 35459250520064 8388608 1099513724928 8388608 1099511627776 1099511889920 8388608 262144 2199031644160 1099511627776 1099511889920 549755813888 274886295552 137438953472 137439477760 8388608 274878431232 8388608 141837002080256 8388608 141836999983104 141837000245248 8388608 262144 17729633386496 35459250257920 70918508380160 70918500515840 8388608 35459250520064 8388608 35184640524288 8796101410816 8590458880 1099513724928 8388608 67108864 274911461376 549772591104,xxbos 70368744177664 xxunk 549755813888 2269391999729664 562949953421312 4608 17592186044416 2336498122752 141836999983104 549755813888 xxunk 549755818240 35184372088832 17592186044416 35918336 70368744177664 17609365913600 4294967296 17626545782784 17592186044416 4535485464576 34359738368 xxunk 17592186044416 2336464306176 1099513724928 549755813888 xxunk 18432 8388608 35918336 17592186044416 2336464306176 1099513724928 549755813888 xxunk xxunk 8388608 274877906944 35918336 18432 8388608 35918336 xxunk 8388608 xxunk 17592186044416 8796095381504 4398050967552 2097152 xxunk 8796093022208 2199025614848 xxunk 2097152 xxunk 4398046511104 1099513724928 xxunk 2097152 xxunk 2199023255552 554050912256 274878169088\n",
       "y: CategoryList\n",
       "Haydn,Scriabin,Scriabin,Schubert,Scriabin\n",
       "Path: /home/tjtsai/.fastai/data/bscore_lm;\n",
       "\n",
       "Test: None, model=SequentialRNN(\n",
       "  (0): MultiBatchEncoder(\n",
       "    (module): AWD_LSTM(\n",
       "      (encoder): Embedding(20800, 400, padding_idx=1)\n",
       "      (encoder_dp): EmbeddingDropout(\n",
       "        (emb): Embedding(20800, 400, padding_idx=1)\n",
       "      )\n",
       "      (rnns): ModuleList(\n",
       "        (0): WeightDropout(\n",
       "          (module): LSTM(400, 1152, batch_first=True)\n",
       "        )\n",
       "        (1): WeightDropout(\n",
       "          (module): LSTM(1152, 1152, batch_first=True)\n",
       "        )\n",
       "        (2): WeightDropout(\n",
       "          (module): LSTM(1152, 400, batch_first=True)\n",
       "        )\n",
       "      )\n",
       "      (input_dp): RNNDropout()\n",
       "      (hidden_dps): ModuleList(\n",
       "        (0): RNNDropout()\n",
       "        (1): RNNDropout()\n",
       "        (2): RNNDropout()\n",
       "      )\n",
       "    )\n",
       "  )\n",
       "  (1): PoolingLinearClassifier(\n",
       "    (layers): Sequential(\n",
       "      (0): BatchNorm1d(1200, eps=1e-05, momentum=0.1, affine=True, track_running_stats=True)\n",
       "      (1): Dropout(p=0.2, inplace=False)\n",
       "      (2): Linear(in_features=1200, out_features=50, bias=True)\n",
       "      (3): ReLU(inplace=True)\n",
       "      (4): BatchNorm1d(50, eps=1e-05, momentum=0.1, affine=True, track_running_stats=True)\n",
       "      (5): Dropout(p=0.1, inplace=False)\n",
       "      (6): Linear(in_features=50, out_features=9, bias=True)\n",
       "    )\n",
       "  )\n",
       "), opt_func=functools.partial(<class 'torch.optim.adam.Adam'>, betas=(0.9, 0.99)), loss_func=FlattenedLoss of CrossEntropyLoss(), metrics=[<function accuracy at 0x7fcd3cd26a70>], true_wd=True, bn_wd=True, wd=0.01, train_bn=True, path=PosixPath('/home/tjtsai/.fastai/data/bscore_lm'), model_dir='models', callback_fns=[functools.partial(<class 'fastai.basic_train.Recorder'>, add_time=True, silent=False)], callbacks=[RNNTrainer\n",
       "learn: ...\n",
       "alpha: 2.0\n",
       "beta: 1.0], layer_groups=[Sequential(\n",
       "  (0): Embedding(20800, 400, padding_idx=1)\n",
       "  (1): EmbeddingDropout(\n",
       "    (emb): Embedding(20800, 400, padding_idx=1)\n",
       "  )\n",
       "), Sequential(\n",
       "  (0): WeightDropout(\n",
       "    (module): LSTM(400, 1152, batch_first=True)\n",
       "  )\n",
       "  (1): RNNDropout()\n",
       "), Sequential(\n",
       "  (0): WeightDropout(\n",
       "    (module): LSTM(1152, 1152, batch_first=True)\n",
       "  )\n",
       "  (1): RNNDropout()\n",
       "), Sequential(\n",
       "  (0): WeightDropout(\n",
       "    (module): LSTM(1152, 400, batch_first=True)\n",
       "  )\n",
       "  (1): RNNDropout()\n",
       "), Sequential(\n",
       "  (0): PoolingLinearClassifier(\n",
       "    (layers): Sequential(\n",
       "      (0): BatchNorm1d(1200, eps=1e-05, momentum=0.1, affine=True, track_running_stats=True)\n",
       "      (1): Dropout(p=0.2, inplace=False)\n",
       "      (2): Linear(in_features=1200, out_features=50, bias=True)\n",
       "      (3): ReLU(inplace=True)\n",
       "      (4): BatchNorm1d(50, eps=1e-05, momentum=0.1, affine=True, track_running_stats=True)\n",
       "      (5): Dropout(p=0.1, inplace=False)\n",
       "      (6): Linear(in_features=50, out_features=9, bias=True)\n",
       "    )\n",
       "  )\n",
       ")], add_time=True, silent=False)"
      ]
     },
     "execution_count": 17,
     "metadata": {},
     "output_type": "execute_result"
    }
   ],
   "source": [
    "learn_c.load_encoder(f'{model_basename}enc')"
   ]
  },
  {
   "cell_type": "code",
   "execution_count": 18,
   "metadata": {},
   "outputs": [],
   "source": [
    "learn_c.freeze()"
   ]
  },
  {
   "cell_type": "code",
   "execution_count": 19,
   "metadata": {},
   "outputs": [
    {
     "data": {
      "text/html": [],
      "text/plain": [
       "<IPython.core.display.HTML object>"
      ]
     },
     "metadata": {},
     "output_type": "display_data"
    },
    {
     "name": "stdout",
     "output_type": "stream",
     "text": [
      "LR Finder is complete, type {learner_name}.recorder.plot() to see the graph.\n"
     ]
    }
   ],
   "source": [
    "learn_c.lr_find()"
   ]
  },
  {
   "cell_type": "code",
   "execution_count": 20,
   "metadata": {},
   "outputs": [
    {
     "data": {
      "image/png": "[encoded data removed]",
      "text/plain": [
       "<Figure size 432x288 with 1 Axes>"
      ]
     },
     "metadata": {
      "needs_background": "light"
     },
     "output_type": "display_data"
    }
   ],
   "source": [
    "learn_c.recorder.plot()"
   ]
  },
  {
   "cell_type": "code",
   "execution_count": 21,
   "metadata": {},
   "outputs": [],
   "source": [
    "lr = 1e-4"
   ]
  },
  {
   "cell_type": "code",
   "execution_count": 22,
   "metadata": {},
   "outputs": [
    {
     "data": {
      "text/html": [
       "<table border=\"1\" class=\"dataframe\">\n",
       "  <thead>\n",
       "    <tr style=\"text-align: left;\">\n",
       "      <th>epoch</th>\n",
       "      <th>train_loss</th>\n",
       "      <th>valid_loss</th>\n",
       "      <th>accuracy</th>\n",
       "      <th>time</th>\n",
       "    </tr>\n",
       "  </thead>\n",
       "  <tbody>\n",
       "    <tr>\n",
       "      <td>0</td>\n",
       "      <td>1.622216</td>\n",
       "      <td>1.622094</td>\n",
       "      <td>0.411204</td>\n",
       "      <td>00:28</td>\n",
       "    </tr>\n",
       "    <tr>\n",
       "      <td>1</td>\n",
       "      <td>1.515303</td>\n",
       "      <td>1.575394</td>\n",
       "      <td>0.426111</td>\n",
       "      <td>00:28</td>\n",
       "    </tr>\n",
       "  </tbody>\n",
       "</table>"
      ],
      "text/plain": [
       "<IPython.core.display.HTML object>"
      ]
     },
     "metadata": {},
     "output_type": "display_data"
    }
   ],
   "source": [
    "learn_c.fit_one_cycle(2, lr, moms=(0.8,0.7))"
   ]
  },
  {
   "cell_type": "code",
   "execution_count": 23,
   "metadata": {},
   "outputs": [
    {
     "data": {
      "text/html": [
       "<table border=\"1\" class=\"dataframe\">\n",
       "  <thead>\n",
       "    <tr style=\"text-align: left;\">\n",
       "      <th>epoch</th>\n",
       "      <th>train_loss</th>\n",
       "      <th>valid_loss</th>\n",
       "      <th>accuracy</th>\n",
       "      <th>time</th>\n",
       "    </tr>\n",
       "  </thead>\n",
       "  <tbody>\n",
       "    <tr>\n",
       "      <td>0</td>\n",
       "      <td>1.422276</td>\n",
       "      <td>1.521332</td>\n",
       "      <td>0.442315</td>\n",
       "      <td>00:28</td>\n",
       "    </tr>\n",
       "    <tr>\n",
       "      <td>1</td>\n",
       "      <td>1.379244</td>\n",
       "      <td>1.506410</td>\n",
       "      <td>0.446759</td>\n",
       "      <td>00:29</td>\n",
       "    </tr>\n",
       "  </tbody>\n",
       "</table>"
      ],
      "text/plain": [
       "<IPython.core.display.HTML object>"
      ]
     },
     "metadata": {},
     "output_type": "display_data"
    }
   ],
   "source": [
    "learn_c.fit_one_cycle(2, lr, moms=(0.8,0.7))"
   ]
  },
  {
   "cell_type": "code",
   "execution_count": 24,
   "metadata": {},
   "outputs": [
    {
     "data": {
      "text/html": [
       "<table border=\"1\" class=\"dataframe\">\n",
       "  <thead>\n",
       "    <tr style=\"text-align: left;\">\n",
       "      <th>epoch</th>\n",
       "      <th>train_loss</th>\n",
       "      <th>valid_loss</th>\n",
       "      <th>accuracy</th>\n",
       "      <th>time</th>\n",
       "    </tr>\n",
       "  </thead>\n",
       "  <tbody>\n",
       "    <tr>\n",
       "      <td>0</td>\n",
       "      <td>1.357409</td>\n",
       "      <td>1.493617</td>\n",
       "      <td>0.442870</td>\n",
       "      <td>00:34</td>\n",
       "    </tr>\n",
       "    <tr>\n",
       "      <td>1</td>\n",
       "      <td>1.276044</td>\n",
       "      <td>1.491769</td>\n",
       "      <td>0.445926</td>\n",
       "      <td>00:35</td>\n",
       "    </tr>\n",
       "  </tbody>\n",
       "</table>"
      ],
      "text/plain": [
       "<IPython.core.display.HTML object>"
      ]
     },
     "metadata": {},
     "output_type": "display_data"
    }
   ],
   "source": [
    "learn_c.freeze_to(-2)\n",
    "learn_c.fit_one_cycle(2, slice(lr/(2.6**4),lr), moms=(0.8,0.7))"
   ]
  },
  {
   "cell_type": "code",
   "execution_count": 25,
   "metadata": {},
   "outputs": [
    {
     "data": {
      "text/html": [
       "<table border=\"1\" class=\"dataframe\">\n",
       "  <thead>\n",
       "    <tr style=\"text-align: left;\">\n",
       "      <th>epoch</th>\n",
       "      <th>train_loss</th>\n",
       "      <th>valid_loss</th>\n",
       "      <th>accuracy</th>\n",
       "      <th>time</th>\n",
       "    </tr>\n",
       "  </thead>\n",
       "  <tbody>\n",
       "    <tr>\n",
       "      <td>0</td>\n",
       "      <td>1.277059</td>\n",
       "      <td>1.488561</td>\n",
       "      <td>0.447407</td>\n",
       "      <td>00:47</td>\n",
       "    </tr>\n",
       "    <tr>\n",
       "      <td>1</td>\n",
       "      <td>1.244196</td>\n",
       "      <td>1.490508</td>\n",
       "      <td>0.445278</td>\n",
       "      <td>00:48</td>\n",
       "    </tr>\n",
       "  </tbody>\n",
       "</table>"
      ],
      "text/plain": [
       "<IPython.core.display.HTML object>"
      ]
     },
     "metadata": {},
     "output_type": "display_data"
    }
   ],
   "source": [
    "learn_c.freeze_to(-3)\n",
    "learn_c.fit_one_cycle(2, slice(lr/2/(2.6**4),lr/2), moms=(0.8,0.7))"
   ]
  },
  {
   "cell_type": "code",
   "execution_count": 26,
   "metadata": {},
   "outputs": [
    {
     "data": {
      "text/html": [
       "<table border=\"1\" class=\"dataframe\">\n",
       "  <thead>\n",
       "    <tr style=\"text-align: left;\">\n",
       "      <th>epoch</th>\n",
       "      <th>train_loss</th>\n",
       "      <th>valid_loss</th>\n",
       "      <th>accuracy</th>\n",
       "      <th>time</th>\n",
       "    </tr>\n",
       "  </thead>\n",
       "  <tbody>\n",
       "    <tr>\n",
       "      <td>0</td>\n",
       "      <td>1.236542</td>\n",
       "      <td>1.483440</td>\n",
       "      <td>0.449444</td>\n",
       "      <td>01:00</td>\n",
       "    </tr>\n",
       "  </tbody>\n",
       "</table>"
      ],
      "text/plain": [
       "<IPython.core.display.HTML object>"
      ]
     },
     "metadata": {},
     "output_type": "display_data"
    }
   ],
   "source": [
    "learn_c.unfreeze()\n",
    "learn_c.fit_one_cycle(1, slice(lr/10/(2.6**4),lr/10), moms=(0.8,0.7))"
   ]
  },
  {
   "cell_type": "code",
   "execution_count": 27,
   "metadata": {},
   "outputs": [],
   "source": [
    "learn_c.save(mdl_path/'awdlstm_train-target_clas')"
   ]
  },
  {
   "cell_type": "code",
   "execution_count": 13,
   "metadata": {},
   "outputs": [
    {
     "data": {
      "text/plain": [
       "RNNLearner(data=TextClasDataBunch;\n",
       "\n",
       "Train: LabelList (32400 items)\n",
       "x: TextList\n",
       "xxbos 2199023255552 8796097216512 8796093022208 1134696000913408 281474976710656 8388608 34359738368 137438953472 1099511627776 4398048608256 4398046511104 8796093546496 1099511627776 1099512676352 549755813888 2199023386624 68719542272 137438986240 16384 8192 4096 2048 137438953472 1099511627776 4398046511104 17592186306560 17592186044416 17592186109952 70368744177664 549755944960 68719476736 549755813888 8796109799424 8796093022208 4194304 281474976710656 5497558138880 274877906944 8388608 4398046511104 17592186044416 140737488355328 262144 1099511627776 4398046511104 17592186044416 1048576 8796093022208 2199023255552 549755813888 1271310319616 65536 262144 1048576 8388608 8388608 8388608 8192 32768 131072 1048576 1048576 1099512676352 549755813888,xxbos 2748779331584 524288 262144 64 16384 5497558401024 524288 262144 21990240944128 262144 5497558663168 262160 5497558147072 2748779331584 524288 262144 16777216 2748779331584 524288 262160 584115560448 262144 524288 262144 1374406311936 584115814400 524288 262208 146046713856 8590458880 70368744177664 4398046806016 16384 2748779069440 283467857920 262144 524288 262144 584123940864 137439215616 1374390059008 262176 2473901195264 4672928612352 8388608 4194304 9070987706368 17867068145664 8388608 4194304 256 687195029504 4194304 8388608 4194304 33554432 687198961664 8388608 4194304 1236950597632 1099511627776 2336464306176 4194304 2097152,xxbos 137438953472 512 154618822912 309237645312 1382979993600 4398047166464 17179869184 xxunk 1099511889920 xxunk 1099511889920 xxunk 1236950614016 xxunk 8256 16512 2199023255552 xxunk 1099511889920 17592186044416 xxunk 1099511758848 xxunk xxunk xxunk xxunk 22539988377664 73728 2765958938656 xxunk 1099511889920 xxunk 549755944960 xxunk 137439248384 42949705984 xxunk 687194931200 171798691840 xxunk xxunk 1099511889920 158914846720 549756076032 32768 313542049792 2482491621376 4398046511104 77309952000 42950729728 17179869184 34360786944 68720066560 137439215616 283467845632 141733928960 8589934592 32768 77309952000 42950729728 17179869184 34360918016 68720066560 137439215616,xxbos 65536 32768 2097152 262144 65536 34359738400 17179870208 2147483648 708669603904 1099511627776 17593259786240 137438953472 17179869184 4294967296 8796629893120 68719476736 17179869184 4294967296 17593259786240 137438953472 17179869184 4294967296 140746078289920 1099511627776 137438953472 34359738368 70373039144960 687194767360 34359738368 35186519572480 274877906944 34359738368 8589934592 1073741824 137438953472 17626545782784 8589934592 17592186052608 137438953472 8589934592 2147483648 8796629893120 68719476736 8589934592 2147483648 4398046773248 34359738368 8589934592 2147483648 8796093546496 68719476736 8589934592 2147483648 2757369593856 549756338176 2147483648 274877906944 8589934592 2147483648 524288 68719476736 8589934592 2147483648 131072,xxbos 35651584 3023657500672 8796093284352 549755813888 137438953472 131072 4112 528384 2113536 8454144 262144 xxunk 528384 2113536 8454144 33816576 39857296506880 8796093022208 22127671517248 85196800 76808192 xxunk 85196800 76808192 xxunk 76808192 85196800 xxunk 85196800 76808192 xxunk 77594624 77594624 77594624 2199023255552 17592186109952 xxunk 70368744177664 40681930301952 1056768 1056768 132096 8256 xxunk 274877906944 2473901162496 524288 524288 1212416 xxunk 2064 16908288 1032 16908288 22159424 33816576 33816576 4227072 264192 33024 1048576 1048576 2097152 xxunk\n",
       "y: CategoryList\n",
       "Mozart,Chopin,Schumann,Schumann,Liszt\n",
       "Path: /home/tjtsai/.fastai/data/bscore_lm;\n",
       "\n",
       "Valid: LabelList (10800 items)\n",
       "x: TextList\n",
       "xxbos 35184372613120 2147483648 70368745226240 2147483648 8796095119360 2147483648 8796095119360 2147483648 8796095119360 2147483648 4398046511616 2048 4398046511616 2048 4398046511616 2048 2199023256576 16384 2199023256576 16384 2199023256576 16384 274877908992 8192 274877908992 8192 274877908992 8192 1024 549755813888 1099511627776 2199023255552 4398046511104 8796093022208 524288 17592186044416 549755814912 1099511629824 2199023259648 4398046519296 8796093038592 17592186077184 2199023271936 1099511635968 2199023271936 4398046543872 8796093087744 17592186175488 8796093038592 2199023259648 549760008192 68720001024 17180000256 2048 343597383680 171798691840 18141941858304 4535486775296 2267745353728 43980465111040 21990232555520 10995116277760 175921860449280 43980465131520,xxbos xxunk 2199585292288 2199585292288 35459249995776 xxunk xxunk 2199581097984 70918499991552 37383395872768 37383414218752 xxunk 90709709555712 19791361343488 19791361343488 159429329682432 xxunk xxunk 159429186291712 xxunk xxunk 159429186027520 70368744309760 xxunk xxunk 87962159153152 1134695999864832 87962159153152 87962159153152 1134695999864832 87962159153152 87962159153152 1134695999864832 87962159153152 1275433488220160 17592186176512 xxunk xxunk 567347999932416 301266187067392 141836999983104 17729624997888 xxunk 2284922601472 1108101562368 4982166323200 554050785312 262144 1108101562368 xxunk 4128 4128 xxunk 554050789440 17179869184 277025394720 549755813888 1245541580800 138512697360 65536 277025390592 xxunk 516 xxunk xxunk,xxbos 8589934592 17182228480 4096 4608 8589934592 8592293888 17179869184 34361966592 4112 512 2228224 34359742464 2748779069952 2491081031680 8589934592 17182031872 xxunk 34359738368 17182031872 34359738368 17181966336 34359738368 17181966336 34359738368 68723802112 32 256 4096 131072 4194304 274877906944 274877906944 137438953472 137438953472 68719476736 34359738368 73050095616 8589951104 4398046511104 1099511627776 8589951104 xxunk 1099511627776 274877906944 17179869216 xxunk 2199023255552 71468255805440 549757911040 4194304 1048576 17180954624 17179869184 xxunk 549755813888 549755813888 137438953472 137438953472 262144 xxunk 68720001024 274877923456 140737488355328 35184372088832,xxbos 1236984135680 1099511627776 1099511627776 1099511889920 8388608 262144 549764202496 274878169088 137447342080 137439477760 8388608 274878431232 8388608 140737490452480 8388608 140737488355328 141837000245248 8388608 262144 283674008354816 141837000245248 70918508380160 1074266112 70918500515840 8388608 35459250520064 8388608 1099513724928 8388608 1099511627776 1099511889920 8388608 262144 2199031644160 1099511627776 1099511889920 549755813888 274886295552 137438953472 137439477760 8388608 274878431232 8388608 141837002080256 8388608 141836999983104 141837000245248 8388608 262144 17729633386496 35459250257920 70918508380160 70918500515840 8388608 35459250520064 8388608 35184640524288 8796101410816 8590458880 1099513724928 8388608 67108864 274911461376 549772591104,xxbos 70368744177664 xxunk 549755813888 2269391999729664 562949953421312 4608 17592186044416 2336498122752 141836999983104 549755813888 xxunk 549755818240 35184372088832 17592186044416 35918336 70368744177664 17609365913600 4294967296 17626545782784 17592186044416 4535485464576 34359738368 xxunk 17592186044416 2336464306176 1099513724928 549755813888 xxunk 18432 8388608 35918336 17592186044416 2336464306176 1099513724928 549755813888 xxunk xxunk 8388608 274877906944 35918336 18432 8388608 35918336 xxunk 8388608 xxunk 17592186044416 8796095381504 4398050967552 2097152 xxunk 8796093022208 2199025614848 xxunk 2097152 xxunk 4398046511104 1099513724928 xxunk 2097152 xxunk 2199023255552 554050912256 274878169088\n",
       "y: CategoryList\n",
       "Haydn,Scriabin,Scriabin,Schubert,Scriabin\n",
       "Path: /home/tjtsai/.fastai/data/bscore_lm;\n",
       "\n",
       "Test: None, model=SequentialRNN(\n",
       "  (0): MultiBatchEncoder(\n",
       "    (module): AWD_LSTM(\n",
       "      (encoder): Embedding(20800, 400, padding_idx=1)\n",
       "      (encoder_dp): EmbeddingDropout(\n",
       "        (emb): Embedding(20800, 400, padding_idx=1)\n",
       "      )\n",
       "      (rnns): ModuleList(\n",
       "        (0): WeightDropout(\n",
       "          (module): LSTM(400, 1152, batch_first=True)\n",
       "        )\n",
       "        (1): WeightDropout(\n",
       "          (module): LSTM(1152, 1152, batch_first=True)\n",
       "        )\n",
       "        (2): WeightDropout(\n",
       "          (module): LSTM(1152, 400, batch_first=True)\n",
       "        )\n",
       "      )\n",
       "      (input_dp): RNNDropout()\n",
       "      (hidden_dps): ModuleList(\n",
       "        (0): RNNDropout()\n",
       "        (1): RNNDropout()\n",
       "        (2): RNNDropout()\n",
       "      )\n",
       "    )\n",
       "  )\n",
       "  (1): PoolingLinearClassifier(\n",
       "    (layers): Sequential(\n",
       "      (0): BatchNorm1d(1200, eps=1e-05, momentum=0.1, affine=True, track_running_stats=True)\n",
       "      (1): Dropout(p=0.2, inplace=False)\n",
       "      (2): Linear(in_features=1200, out_features=50, bias=True)\n",
       "      (3): ReLU(inplace=True)\n",
       "      (4): BatchNorm1d(50, eps=1e-05, momentum=0.1, affine=True, track_running_stats=True)\n",
       "      (5): Dropout(p=0.1, inplace=False)\n",
       "      (6): Linear(in_features=50, out_features=9, bias=True)\n",
       "    )\n",
       "  )\n",
       "), opt_func=functools.partial(<class 'torch.optim.adam.Adam'>, betas=(0.9, 0.99)), loss_func=FlattenedLoss of CrossEntropyLoss(), metrics=[<function accuracy at 0x7fde63aa0950>, FBeta(average='macro', pos_label=1, eps=1e-09, beta=1)], true_wd=True, bn_wd=True, wd=0.01, train_bn=True, path=PosixPath('/home/tjtsai/.fastai/data/bscore_lm'), model_dir='models', callback_fns=[functools.partial(<class 'fastai.basic_train.Recorder'>, add_time=True, silent=False)], callbacks=[RNNTrainer\n",
       "learn: ...\n",
       "alpha: 2.0\n",
       "beta: 1.0], layer_groups=[Sequential(\n",
       "  (0): Embedding(20800, 400, padding_idx=1)\n",
       "  (1): EmbeddingDropout(\n",
       "    (emb): Embedding(20800, 400, padding_idx=1)\n",
       "  )\n",
       "), Sequential(\n",
       "  (0): WeightDropout(\n",
       "    (module): LSTM(400, 1152, batch_first=True)\n",
       "  )\n",
       "  (1): RNNDropout()\n",
       "), Sequential(\n",
       "  (0): WeightDropout(\n",
       "    (module): LSTM(1152, 1152, batch_first=True)\n",
       "  )\n",
       "  (1): RNNDropout()\n",
       "), Sequential(\n",
       "  (0): WeightDropout(\n",
       "    (module): LSTM(1152, 400, batch_first=True)\n",
       "  )\n",
       "  (1): RNNDropout()\n",
       "), Sequential(\n",
       "  (0): PoolingLinearClassifier(\n",
       "    (layers): Sequential(\n",
       "      (0): BatchNorm1d(1200, eps=1e-05, momentum=0.1, affine=True, track_running_stats=True)\n",
       "      (1): Dropout(p=0.2, inplace=False)\n",
       "      (2): Linear(in_features=1200, out_features=50, bias=True)\n",
       "      (3): ReLU(inplace=True)\n",
       "      (4): BatchNorm1d(50, eps=1e-05, momentum=0.1, affine=True, track_running_stats=True)\n",
       "      (5): Dropout(p=0.1, inplace=False)\n",
       "      (6): Linear(in_features=50, out_features=9, bias=True)\n",
       "    )\n",
       "  )\n",
       ")], add_time=True, silent=False)"
      ]
     },
     "execution_count": 13,
     "metadata": {},
     "output_type": "execute_result"
    }
   ],
   "source": [
    "learn_c.load(mdl_path/'awdlstm_train-target_clas')"
   ]
  },
  {
   "cell_type": "markdown",
   "metadata": {},
   "source": [
    "### Evaluate Classifier"
   ]
  },
  {
   "cell_type": "markdown",
   "metadata": {},
   "source": [
    "Evaluate on the proxy task -- classifying fixed-length chunks of bootleg score features."
   ]
  },
  {
   "cell_type": "code",
   "execution_count": 14,
   "metadata": {},
   "outputs": [
    {
     "data": {
      "text/html": [],
      "text/plain": [
       "<IPython.core.display.HTML object>"
      ]
     },
     "metadata": {},
     "output_type": "display_data"
    },
    {
     "data": {
      "text/html": [],
      "text/plain": [
       "<IPython.core.display.HTML object>"
      ]
     },
     "metadata": {},
     "output_type": "display_data"
    }
   ],
   "source": [
    "data_clas_test = TextDataBunch.from_df(path, train_df, test_df, tokenizer=basicTokenizer, \n",
    "                                       vocab=data.vocab, bs=bs, num_workers=1)"
   ]
  },
  {
   "cell_type": "code",
   "execution_count": 15,
   "metadata": {},
   "outputs": [
    {
     "data": {
      "text/html": [],
      "text/plain": [
       "<IPython.core.display.HTML object>"
      ]
     },
     "metadata": {},
     "output_type": "display_data"
    },
    {
     "data": {
      "text/plain": [
       "[1.4506007, tensor(0.4790), tensor(0.4697)]"
      ]
     },
     "execution_count": 15,
     "metadata": {},
     "output_type": "execute_result"
    }
   ],
   "source": [
    "learn_c.validate(data_clas_test.valid_dl)"
   ]
  },
  {
   "cell_type": "markdown",
   "metadata": {},
   "source": [
    "Evaluate on the original task -- classifying pages of sheet music.  We can evaluate our models in two ways:\n",
    "- applying the model to a variable length sequence\n",
    "- applying the model to multiple fixed-length windows and averaging the predictions\n",
    "\n",
    "First we evaluate the model on variable length inputs.  Report results with and without applying priors."
   ]
  },
  {
   "cell_type": "code",
   "execution_count": 16,
   "metadata": {},
   "outputs": [],
   "source": [
    "train_fullpage_df = pd.read_csv(path/'train.fullpage.csv')\n",
    "valid_fullpage_df = pd.read_csv(path/'valid.fullpage.csv')\n",
    "test_fullpage_df = pd.read_csv(path/'test.fullpage.csv')"
   ]
  },
  {
   "cell_type": "code",
   "execution_count": 17,
   "metadata": {},
   "outputs": [
    {
     "data": {
      "text/html": [],
      "text/plain": [
       "<IPython.core.display.HTML object>"
      ]
     },
     "metadata": {},
     "output_type": "display_data"
    },
    {
     "data": {
      "text/html": [],
      "text/plain": [
       "<IPython.core.display.HTML object>"
      ]
     },
     "metadata": {},
     "output_type": "display_data"
    },
    {
     "data": {
      "text/html": [],
      "text/plain": [
       "<IPython.core.display.HTML object>"
      ]
     },
     "metadata": {},
     "output_type": "display_data"
    },
    {
     "data": {
      "text/html": [],
      "text/plain": [
       "<IPython.core.display.HTML object>"
      ]
     },
     "metadata": {},
     "output_type": "display_data"
    },
    {
     "data": {
      "text/plain": [
       "((0.5230061411857605, 0.5935583114624023),\n",
       " (0.5236615574067591, 0.5591459557537273))"
      ]
     },
     "execution_count": 17,
     "metadata": {},
     "output_type": "execute_result"
    }
   ],
   "source": [
    "(acc, acc_with_prior), (f1, f1_with_prior) = eval_models.calcAccuracy_fullpage(learn_c, path, train_fullpage_df, valid_fullpage_df, test_fullpage_df)\n",
    "(acc, acc_with_prior), (f1, f1_with_prior)"
   ]
  },
  {
   "cell_type": "markdown",
   "metadata": {},
   "source": [
    "Now we evaluate the model by considering multiple fixed-length windows and averaging the predictions."
   ]
  },
  {
   "cell_type": "code",
   "execution_count": 18,
   "metadata": {},
   "outputs": [],
   "source": [
    "test_ensemble_df = pd.read_csv(path/'test.ensemble64.csv')"
   ]
  },
  {
   "cell_type": "code",
   "execution_count": 19,
   "metadata": {},
   "outputs": [
    {
     "data": {
      "text/html": [],
      "text/plain": [
       "<IPython.core.display.HTML object>"
      ]
     },
     "metadata": {},
     "output_type": "display_data"
    },
    {
     "data": {
      "text/html": [],
      "text/plain": [
       "<IPython.core.display.HTML object>"
      ]
     },
     "metadata": {},
     "output_type": "display_data"
    },
    {
     "data": {
      "text/html": [],
      "text/plain": [
       "<IPython.core.display.HTML object>"
      ]
     },
     "metadata": {},
     "output_type": "display_data"
    },
    {
     "data": {
      "text/html": [],
      "text/plain": [
       "<IPython.core.display.HTML object>"
      ]
     },
     "metadata": {},
     "output_type": "display_data"
    },
    {
     "data": {
      "text/plain": [
       "((0.5851227045059204, 0.5835889577865601),\n",
       " (0.5355251546870265, 0.4968190658288684))"
      ]
     },
     "execution_count": 19,
     "metadata": {},
     "output_type": "execute_result"
    }
   ],
   "source": [
    "(acc, acc_with_prior), (f1, f1_with_prior) = eval_models.calcAccuracy_fullpage(learn_c, path, train_fullpage_df, valid_fullpage_df, test_ensemble_df, ensembled=True)\n",
    "(acc, acc_with_prior), (f1, f1_with_prior)"
   ]
  },
  {
   "cell_type": "markdown",
   "metadata": {},
   "source": [
    "### Error Analysis"
   ]
  },
  {
   "cell_type": "code",
   "execution_count": 34,
   "metadata": {},
   "outputs": [
    {
     "data": {
      "text/html": [],
      "text/plain": [
       "<IPython.core.display.HTML object>"
      ]
     },
     "metadata": {},
     "output_type": "display_data"
    }
   ],
   "source": [
    "interp = ClassificationInterpretation.from_learner(learn_c)"
   ]
  },
  {
   "cell_type": "code",
   "execution_count": 35,
   "metadata": {},
   "outputs": [
    {
     "data": {
      "image/png": "[encoded data removed]",
      "text/plain": [
       "<Figure size 864x864 with 1 Axes>"
      ]
     },
     "metadata": {
      "needs_background": "light"
     },
     "output_type": "display_data"
    }
   ],
   "source": [
    "interp.plot_confusion_matrix(figsize=(12,12))"
   ]
  },
  {
   "cell_type": "code",
   "execution_count": null,
   "metadata": {},
   "outputs": [],
   "source": []
  }
 ],
 "metadata": {
  "kernelspec": {
   "display_name": "PianoStyleEmbedding",
   "language": "python",
   "name": "pianostyleembedding"
  },
  "language_info": {
   "codemirror_mode": {
    "name": "ipython",
    "version": 3
   },
   "file_extension": ".py",
   "mimetype": "text/x-python",
   "name": "python",
   "nbconvert_exporter": "python",
   "pygments_lexer": "ipython3",
   "version": "3.7.4"
  },
  "toc": {
   "base_numbering": 1,
   "nav_menu": {},
   "number_sections": false,
   "sideBar": true,
   "skip_h1_title": true,
   "title_cell": "Table of Contents",
   "title_sidebar": "Contents",
   "toc_cell": false,
   "toc_position": {},
   "toc_section_display": true,
   "toc_window_display": false
  }
 },
 "nbformat": 4,
 "nbformat_minor": 2
}

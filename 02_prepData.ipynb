{
 "cells": [
  {
   "cell_type": "markdown",
   "metadata": {},
   "source": [
    "# Data Preparation"
   ]
  },
  {
   "cell_type": "markdown",
   "metadata": {},
   "source": [
    "This notebook cleans and prepares the data for training, validation, and testing."
   ]
  },
  {
   "cell_type": "code",
   "execution_count": 1,
   "metadata": {},
   "outputs": [],
   "source": [
    "%matplotlib inline"
   ]
  },
  {
   "cell_type": "code",
   "execution_count": 2,
   "metadata": {},
   "outputs": [],
   "source": [
    "import numpy as np\n",
    "import matplotlib.pyplot as plt\n",
    "import os\n",
    "import os.path\n",
    "import pickle\n",
    "import glob\n",
    "import PIL"
   ]
  },
  {
   "cell_type": "markdown",
   "metadata": {},
   "source": [
    "### Filter out filler pages"
   ]
  },
  {
   "cell_type": "markdown",
   "metadata": {},
   "source": [
    "Remove filler pages that do not contain sheet music information (e.g. title, foreword).  The file filler.txt indicates which pages are filler."
   ]
  },
  {
   "cell_type": "code",
   "execution_count": 3,
   "metadata": {},
   "outputs": [],
   "source": [
    "def getFillerList(filler_file, feat_dir):\n",
    "    d = {} # list of pages to remove\n",
    "    with open(filler_file, 'r') as f:\n",
    "        for line in f:\n",
    "            parts = line.strip().split('\\t')\n",
    "            if len(parts) > 1:\n",
    "                relpath = parts[0] # e.g. Bach/00748\n",
    "                scoreID = os.path.basename(relpath) # e.g. 00748\n",
    "                removeField = parts[1].strip('\"') # e.g. \"0,1,-2,-1\" or \"r\" or \"rl\"\n",
    "                numPages = getNumPages(relpath, feat_dir)\n",
    "                if removeField == 'r' or removeField == 'rl': # remove all pages\n",
    "                    for pkl_file in glob.glob('{}/{}/*.pkl'.format(feat_dir, parts[0])):\n",
    "                        pageID = os.path.splitext(os.path.basename(pkl_file))[0] # e.g. 00822-3\n",
    "                        d[pageID] = 1\n",
    "                else:\n",
    "                    for pageNumStr in removeField.split(','):\n",
    "                        pageNum = int(pageNumStr)\n",
    "                        if pageNum < 0:\n",
    "                            pageID = '{}-{}'.format(scoreID, numPages + pageNum)\n",
    "                            d[pageID] = 1\n",
    "                        else:\n",
    "                            pageID = '{}-{}'.format(scoreID, pageNum)\n",
    "                            d[pageID] = 1\n",
    "    return d"
   ]
  },
  {
   "cell_type": "code",
   "execution_count": 4,
   "metadata": {},
   "outputs": [],
   "source": [
    "def getNumPages(relpath, indir):\n",
    "    numPages = len(glob.glob('{}/{}/*.pkl'.format(indir, relpath)))\n",
    "    return numPages"
   ]
  },
  {
   "cell_type": "code",
   "execution_count": 5,
   "metadata": {},
   "outputs": [],
   "source": [
    "def getNonFillerFeatures(filler_file, feat_dir):\n",
    "    '''\n",
    "    Collect bootleg score features from all pages that are (a) not filler and (b) have a valid \n",
    "    bootleg score matrix.\n",
    "    '''\n",
    "    \n",
    "    filler = getFillerList(filler_file, feat_dir)\n",
    "    feats = {}\n",
    "    \n",
    "    for pieceDir in glob.glob('{}/*/*/'.format(feat_dir)): # e.g. score_feat/Bach/00748/\n",
    "        \n",
    "        pieceID = pieceDir.split('/')[-2]\n",
    "        composer = pieceDir.split('/')[-3]\n",
    "        accum = [] # features from all pages in this score (or None if filler/no features extracted)\n",
    "        numPages = len(glob.glob('{}/*.pkl'.format(pieceDir)))\n",
    "        \n",
    "        for i in range(numPages):\n",
    "            \n",
    "            pkl_file = '{}/{}-{}.pkl'.format(pieceDir, pieceID, i)\n",
    "            pageID = '{}-{}'.format(pieceID, i) # e.g. 00748-2\n",
    "            if pageID in filler: # filler page, skip\n",
    "                accum.append(None)\n",
    "                continue\n",
    "            with open(pkl_file, 'rb') as f:\n",
    "                bscore = pickle.load(f)['bscore']\n",
    "            if bscore is None: # if None, no features were computed\n",
    "                accum.append(None)\n",
    "            else:\n",
    "                accum.append(bscore == 1) # convert from float to bool to compress memory\n",
    "        \n",
    "        if len(accum) > 0:\n",
    "            feats[pieceDir] = accum\n",
    "    \n",
    "    return feats"
   ]
  },
  {
   "cell_type": "code",
   "execution_count": 6,
   "metadata": {},
   "outputs": [],
   "source": [
    "filler_file = 'cfg_files/filler.txt'\n",
    "score_feat_dir = 'score_feat'\n",
    "feats = getNonFillerFeatures(filler_file, score_feat_dir) # key: pieceDir, value: list of bscore matrices"
   ]
  },
  {
   "cell_type": "markdown",
   "metadata": {},
   "source": [
    "### Investigate Feature Statistics"
   ]
  },
  {
   "cell_type": "code",
   "execution_count": 7,
   "metadata": {},
   "outputs": [],
   "source": [
    "def getFeatureStats(feats):\n",
    "    \n",
    "    # count number of features per page\n",
    "    featsPerPage = []\n",
    "    for pieceDir in feats:\n",
    "        for elem in feats[pieceDir]:\n",
    "            if elem is not None:\n",
    "                featsPerPage.append(elem.shape[1])\n",
    "    featsPerPage = np.array(featsPerPage)\n",
    "    printStats(featsPerPage, \"Number of Features Per Page\")\n",
    "    \n",
    "    # plot histogram\n",
    "    plt.subplot(2,1,1)\n",
    "    plt.hist(featsPerPage, bins=100)\n",
    "    plt.xlabel('Number of Events In Single Page')\n",
    "    plt.ylabel('Frequency')\n",
    "    plt.show()\n",
    "    \n",
    "    # count total number of pages by composer\n",
    "    pages = {}\n",
    "    for pieceDir in feats: # e.g. score_feat/Bach/00748/\n",
    "        composer = pieceDir.split('/')[-3]\n",
    "        if composer not in pages:\n",
    "            pages[composer] = 0\n",
    "        pages[composer] += len([1 for elem in feats[pieceDir] if elem is not None])\n",
    "    pageCnts = [pages[composer] for composer in pages]\n",
    "    composers = [composer[0:5] for composer in pages]\n",
    "    printStats(pageCnts, \"Total Number of Pages by Composer\")\n",
    "    \n",
    "    # plot histogram\n",
    "    x_pos = np.arange(len(pageCnts))\n",
    "    plt.bar(x_pos, pageCnts)\n",
    "    plt.xticks(x_pos, composers)\n",
    "    plt.ylabel('Total # Pages')\n",
    "    plt.show()\n",
    "    \n",
    "    # count total number of note events by composer\n",
    "    noteEvents = {}\n",
    "    for pieceDir in feats: # e.g. score_feat/Bach/00748/\n",
    "        composer = pieceDir.split('/')[-3]\n",
    "        if composer not in noteEvents:\n",
    "            noteEvents[composer] = 0\n",
    "        for elem in feats[pieceDir]:\n",
    "            if elem is not None:\n",
    "                noteEvents[composer] += elem.shape[1]\n",
    "    noteEventCnts = [noteEvents[composer] for composer in noteEvents]\n",
    "    printStats(noteEventCnts, \"Total Number of Note Events by Composer\")\n",
    "    \n",
    "    # plot histogram\n",
    "    x_pos = np.arange(len(composers))\n",
    "    plt.bar(x_pos, noteEventCnts)\n",
    "    plt.xticks(x_pos, composers)\n",
    "    plt.ylabel('Total # Note Events')\n",
    "    plt.show()\n",
    "    \n",
    "    return"
   ]
  },
  {
   "cell_type": "code",
   "execution_count": 8,
   "metadata": {},
   "outputs": [],
   "source": [
    "def printStats(arr, title = None):\n",
    "    if title:\n",
    "        print(title)\n",
    "    print('Mean: {}'.format(np.mean(arr)))\n",
    "    print('Std: {}'.format(np.std(arr)))\n",
    "    print('Min: {}'.format(np.min(arr)))\n",
    "    print('Max: {}'.format(np.max(arr)))"
   ]
  },
  {
   "cell_type": "code",
   "execution_count": 9,
   "metadata": {},
   "outputs": [
    {
     "name": "stdout",
     "output_type": "stream",
     "text": [
      "Number of Features Per Page\n",
      "Mean: 217.97964376590332\n",
      "Std: 82.13355407637373\n",
      "Min: 2\n",
      "Max: 689\n"
     ]
    },
    {
     "data": {
      "image/png": "[encoded data removed]",
      "text/plain": [
       "<Figure size 432x288 with 1 Axes>"
      ]
     },
     "metadata": {
      "needs_background": "light"
     },
     "output_type": "display_data"
    },
    {
     "name": "stdout",
     "output_type": "stream",
     "text": [
      "Total Number of Pages by Composer\n",
      "Mean: 112.28571428571429\n",
      "Std: 49.05889837943858\n",
      "Min: 58\n",
      "Max: 214\n"
     ]
    },
    {
     "data": {
      "image/png": "[encoded data removed]",
      "text/plain": [
       "<Figure size 432x288 with 1 Axes>"
      ]
     },
     "metadata": {
      "needs_background": "light"
     },
     "output_type": "display_data"
    },
    {
     "name": "stdout",
     "output_type": "stream",
     "text": [
      "Total Number of Note Events by Composer\n",
      "Mean: 24476.0\n",
      "Std: 12577.635912319021\n",
      "Min: 4908\n",
      "Max: 45884\n"
     ]
    },
    {
     "data": {
      "image/png": "[encoded data removed]",
      "text/plain": [
       "<Figure size 432x288 with 1 Axes>"
      ]
     },
     "metadata": {
      "needs_background": "light"
     },
     "output_type": "display_data"
    }
   ],
   "source": [
    "getFeatureStats(feats)"
   ]
  },
  {
   "cell_type": "markdown",
   "metadata": {},
   "source": [
    "Note that there is a wide variation in the number of features per page and a significant class imbalance in the data.  We will define a proxy task which tries to classify short fixed-length chunks of bootleg score features, and resample the classes to ensure class balance."
   ]
  },
  {
   "cell_type": "markdown",
   "metadata": {},
   "source": [
    "### Split Data into Train, Validation, & Test"
   ]
  },
  {
   "cell_type": "markdown",
   "metadata": {},
   "source": [
    "Below we separate the data into train, validation, & test sets.  We split the data by piece (as opposed to page) to ensure total separation.  This data corresponds to the original task of classifying a single page of sheet music."
   ]
  },
  {
   "cell_type": "code",
   "execution_count": 10,
   "metadata": {},
   "outputs": [],
   "source": [
    "def splitTrainValidTest(d, train=.6, validation=.2, test=.2, savefile = None):\n",
    "    \n",
    "    # shuffle\n",
    "    assert(train + validation + test == 1.0)\n",
    "    np.random.seed(0)\n",
    "    pieceDirs = list(d.keys())\n",
    "    np.random.shuffle(pieceDirs)\n",
    "    \n",
    "    # split\n",
    "    breakpt1 = int(len(pieceDirs) * train)\n",
    "    breakpt2 = breakpt1 + int(len(pieceDirs) * validation)\n",
    "    pieceDirs_train = pieceDirs[0:breakpt1]\n",
    "    pieceDirs_valid = pieceDirs[breakpt1:breakpt2]\n",
    "    pieceDirs_test = pieceDirs[breakpt2:]\n",
    "    \n",
    "    # save\n",
    "    d_train = getDataSubset(d, pieceDirs_train)\n",
    "    d_valid = getDataSubset(d, pieceDirs_valid)\n",
    "    d_test = getDataSubset(d, pieceDirs_test)\n",
    "    if savefile:\n",
    "        saveToPickle([d, pieceDirs_train, pieceDirs_valid, pieceDirs_test], savefile)\n",
    "    \n",
    "    return d_train, d_valid, d_test"
   ]
  },
  {
   "cell_type": "code",
   "execution_count": 11,
   "metadata": {},
   "outputs": [],
   "source": [
    "def getDataSubset(dAll, toKeep):\n",
    "    dSubset = {}\n",
    "    for pieceDir in toKeep:\n",
    "        dSubset[pieceDir] = dAll[pieceDir]\n",
    "    return dSubset"
   ]
  },
  {
   "cell_type": "code",
   "execution_count": 12,
   "metadata": {},
   "outputs": [],
   "source": [
    "def saveToPickle(d, outfile):\n",
    "    with open(outfile, 'wb') as f:\n",
    "        pickle.dump(d, f)"
   ]
  },
  {
   "cell_type": "code",
   "execution_count": 13,
   "metadata": {},
   "outputs": [],
   "source": [
    "def loadPickle(infile):\n",
    "    with open(infile, 'rb') as f:\n",
    "        d = pickle.load(f)\n",
    "    return d"
   ]
  },
  {
   "cell_type": "code",
   "execution_count": 14,
   "metadata": {},
   "outputs": [],
   "source": [
    "save_pages_file = '{}/data.pages.pkl'.format(score_feat_dir)\n",
    "d_train, d_valid, d_test = splitTrainValidTest(feats, train=.6, validation=.2, test=.2, savefile=save_pages_file)"
   ]
  },
  {
   "cell_type": "markdown",
   "metadata": {},
   "source": [
    "### Format data in chunks"
   ]
  },
  {
   "cell_type": "markdown",
   "metadata": {},
   "source": [
    "Below we prepare the data for the proxy task, which assumes a fixed-length (L=64) chunk of bootleg features.  To ensure class balance, we randomly sample the same number of chunks from each class."
   ]
  },
  {
   "cell_type": "code",
   "execution_count": 15,
   "metadata": {},
   "outputs": [],
   "source": [
    "def getComposer2IndexMapping(feat_dir):\n",
    "    composers = []\n",
    "    for composerDir in sorted(glob.glob('{}/*/'.format(feat_dir))):\n",
    "        composer = composerDir.split('/')[-2]\n",
    "        composers.append(composer)\n",
    "    c_to_i = {c:i for i, c in enumerate(composers)}\n",
    "    \n",
    "    return c_to_i, composers"
   ]
  },
  {
   "cell_type": "code",
   "execution_count": 16,
   "metadata": {},
   "outputs": [],
   "source": [
    "def getChunkedData_uniformSampling(d, chunkSize, c_to_i):\n",
    "    '''\n",
    "    Uniform sampling with 50% overlap.  Doesn't keep page location info.\n",
    "    '''\n",
    "    frags = []\n",
    "    labels = []\n",
    "    pieceDir2idxRange = {}\n",
    "    for pieceDir in d:\n",
    "        merged = np.hstack(d[pieceDir])\n",
    "        composerIdx = c_to_i[pieceDir.split('/')[-3]]\n",
    "        startChunkIdx = len(frags)\n",
    "        for startIdx in range(0, merged.shape[1], chunkSize // 2):\n",
    "            endIdx = startIdx + chunkSize\n",
    "            if endIdx <= merged.shape[1]:\n",
    "                frags.append(merged[:,startIdx:endIdx])\n",
    "                labels.append(composerIdx)\n",
    "        endChunkIdx = len(frags)\n",
    "        pieceDir2idxRange[pieceDir] = (startChunkIdx, endChunkIdx)\n",
    "    frags = np.array(frags)\n",
    "    labels = np.array(labels)\n",
    "    \n",
    "    return frags, labels, pieceDir2idxRange"
   ]
  },
  {
   "cell_type": "code",
   "execution_count": 17,
   "metadata": {},
   "outputs": [],
   "source": [
    "def getChunkedData_balanced(d, chunkSize, samplesPerComposer, composers):\n",
    "    '''\n",
    "    Samples the same number of windows from each composer to avoid class imbalance.\n",
    "    Also keeps the page location for debugging and error analysis.\n",
    "    '''\n",
    "    np.random.seed(0)\n",
    "    \n",
    "    frags = []\n",
    "    labels = []\n",
    "    pagelocs = [] # list of (pieceDir, startPage, endPage) tuples\n",
    "    \n",
    "    for composerIdx, composer in enumerate(composers):\n",
    "        samples, locinfo = sampleFromComposer(d, chunkSize, samplesPerComposer, composer)\n",
    "        frags.extend(samples)\n",
    "        labels.extend([composerIdx] * samplesPerComposer)\n",
    "        pagelocs.extend(locinfo)\n",
    "        \n",
    "    frags = np.array(frags)\n",
    "    labels = np.array(labels)\n",
    "    \n",
    "    # shuffle indices\n",
    "    shuffled_idxs = np.arange(len(labels))\n",
    "    np.random.shuffle(shuffled_idxs)\n",
    "    frags = frags[shuffled_idxs]\n",
    "    labels = labels[shuffled_idxs]\n",
    "    pagelocs = [pagelocs[i] for i in shuffled_idxs]\n",
    "    \n",
    "    return frags, labels, pagelocs"
   ]
  },
  {
   "cell_type": "code",
   "execution_count": 18,
   "metadata": {},
   "outputs": [],
   "source": [
    "def sampleFromComposer(d, chunkSize, N, composer):\n",
    "    '''\n",
    "    Samples N windows of length chunkSize from the bootleg score data from the specified composer.\n",
    "    Returns the sampled data, along with piece & page location for error analysis.\n",
    "    '''\n",
    "    \n",
    "    # generate list of all valid sample locations\n",
    "    allLocs = [] # list of (pieceNum, offset) tuples\n",
    "    validPieceDirs = [] # pieceDirs that correspond to this composer\n",
    "    bscores = [] # list of bootleg scores from each piece\n",
    "    for pieceDir in d:\n",
    "        if pieceDir.split('/')[-3] == composer:\n",
    "            pieceNum = len(validPieceDirs)\n",
    "            validPageFeats = [elem for elem in d[pieceDir] if elem is not None]\n",
    "            if len(validPageFeats) == 0:\n",
    "                continue\n",
    "            merged = np.hstack(validPageFeats)\n",
    "            for col_offset in range(merged.shape[1] - chunkSize + 1):\n",
    "                allLocs.append((pieceNum, col_offset))\n",
    "            validPieceDirs.append(pieceDir)\n",
    "            bscores.append(merged)\n",
    "\n",
    "    # generate samples\n",
    "    frags = []\n",
    "    pagelocs = []\n",
    "    sample_idxs = np.random.choice(len(allLocs), N)\n",
    "    for sample_idx in sample_idxs:\n",
    "        pieceNum, offset = allLocs[sample_idx]\n",
    "        pieceDir = validPieceDirs[pieceNum]\n",
    "        frag = bscores[pieceNum][:, offset:offset+chunkSize]\n",
    "        locStart = determinePageLocation(d, pieceDir, offset) # (pageLocFloat, pageNum, pageOffset)\n",
    "        locEnd = determinePageLocation(d, pieceDir, offset + chunkSize - 1)\n",
    "        frags.append(frag)\n",
    "        pagelocs.append((pieceDir, locStart, locEnd))\n",
    "\n",
    "    return frags, pagelocs"
   ]
  },
  {
   "cell_type": "code",
   "execution_count": 19,
   "metadata": {},
   "outputs": [],
   "source": [
    "def determinePageLocation(d, pieceDir, offset):\n",
    "    '''\n",
    "    Determines the page location of the given bootleg score column offset.  The page location\n",
    "    is calculated as a floating point number.\n",
    "    '''\n",
    "    accum = 0\n",
    "    pageloc = (-1, -1, -1) # (pageLocFloat, pageNum, pageOffset)\n",
    "    for pageIdx, elem in enumerate(d[pieceDir]):\n",
    "        if elem is not None:\n",
    "            numEvents = elem.shape[1]\n",
    "            if accum + numEvents > offset:\n",
    "                frac = (offset - accum) / (numEvents - 1) * 1.0\n",
    "                pageFloat = pageIdx + frac\n",
    "                pageloc = (pageFloat, pageIdx, offset - accum) \n",
    "                break\n",
    "            accum += numEvents\n",
    "    return pageloc"
   ]
  },
  {
   "cell_type": "code",
   "execution_count": 20,
   "metadata": {},
   "outputs": [],
   "source": [
    "composer2idx, composers = getComposer2IndexMapping(score_feat_dir)"
   ]
  },
  {
   "cell_type": "code",
   "execution_count": 21,
   "metadata": {},
   "outputs": [],
   "source": [
    "chunkSize = 128 # pick a chunk size a bit larger than 64 to allow for additional data augmentation\n",
    "samplesPerComposer = 3600\n",
    "X_train, y_train, pageinfo_train = getChunkedData_balanced(d_train, chunkSize, samplesPerComposer, composers)\n",
    "X_valid, y_valid, pageinfo_valid = getChunkedData_balanced(d_valid, chunkSize, samplesPerComposer//3, composers)\n",
    "X_test, y_test, pageinfo_test = getChunkedData_balanced(d_test, chunkSize, samplesPerComposer//3, composers)"
   ]
  },
  {
   "cell_type": "code",
   "execution_count": 22,
   "metadata": {},
   "outputs": [
    {
     "data": {
      "text/plain": [
       "((25200, 62, 128), (8400, 62, 128), (8400, 62, 128))"
      ]
     },
     "execution_count": 22,
     "metadata": {},
     "output_type": "execute_result"
    }
   ],
   "source": [
    "X_train.shape, X_valid.shape, X_test.shape"
   ]
  },
  {
   "cell_type": "code",
   "execution_count": 23,
   "metadata": {},
   "outputs": [],
   "source": [
    "save_chunks_file = f'{score_feat_dir}/data.chunks{chunkSize}.pkl'\n",
    "saveToPickle([X_train, y_train, pageinfo_train, X_valid, y_valid, pageinfo_valid, X_test, y_test, pageinfo_test], save_chunks_file)"
   ]
  },
  {
   "cell_type": "markdown",
   "metadata": {},
   "source": [
    "### Verify data"
   ]
  },
  {
   "cell_type": "markdown",
   "metadata": {},
   "source": [
    "Compare the bootleg score data chunks against the original png images to verify that the data has been processed correctly."
   ]
  },
  {
   "cell_type": "code",
   "execution_count": 24,
   "metadata": {},
   "outputs": [],
   "source": [
    "def visualizeBootlegScore(bs, lines = [13, 15, 17, 19, 21, 35, 37, 39, 41, 43]):\n",
    "    plt.figure(figsize = (10,10))\n",
    "    plt.imshow(1 - bs, cmap = 'gray', origin = 'lower')\n",
    "    for l in range(1, bs.shape[0], 2):\n",
    "        plt.axhline(l, c = 'grey')\n",
    "    for l in lines:\n",
    "        plt.axhline(l, c = 'r')"
   ]
  },
  {
   "cell_type": "code",
   "execution_count": 25,
   "metadata": {},
   "outputs": [],
   "source": [
    "def getCorrespondingImage(tup, png_dir = 'data/png', showNext = False):\n",
    "    pieceDir, startLoc, endLoc = tup\n",
    "    composer = pieceDir.split('/')[-3]\n",
    "    pieceID = pieceDir.split('/')[-2]\n",
    "    startpage = startLoc[1]\n",
    "    if showNext:\n",
    "        startpage += 1\n",
    "    pngfile = '{}/{}/{}/{}-{}.png'.format(png_dir, composer, pieceID, pieceID, startpage)\n",
    "    im = PIL.Image.open(pngfile)\n",
    "    return im"
   ]
  },
  {
   "cell_type": "code",
   "execution_count": 26,
   "metadata": {},
   "outputs": [
    {
     "data": {
      "image/png": "[encoded data removed]",
      "text/plain": [
       "<Figure size 720x720 with 1 Axes>"
      ]
     },
     "metadata": {
      "needs_background": "light"
     },
     "output_type": "display_data"
    }
   ],
   "source": [
    "i = 27\n",
    "visualizeBootlegScore(X_train[i])"
   ]
  },
  {
   "cell_type": "code",
   "execution_count": 27,
   "metadata": {},
   "outputs": [
    {
     "data": {
      "text/plain": [
       "('score_feat/Mozart/86721/',\n",
       " (6.2321899736147754, 6, 88),\n",
       " (6.567282321899736, 6, 215))"
      ]
     },
     "execution_count": 27,
     "metadata": {},
     "output_type": "execute_result"
    }
   ],
   "source": [
    "pageinfo_train[i]"
   ]
  },
  {
   "cell_type": "code",
   "execution_count": 28,
   "metadata": {},
   "outputs": [],
   "source": [
    "im = getCorrespondingImage(pageinfo_train[i], showNext = True)"
   ]
  },
  {
   "cell_type": "markdown",
   "metadata": {},
   "source": [
    "# Prepare data for fastai"
   ]
  },
  {
   "cell_type": "markdown",
   "metadata": {},
   "source": [
    "In the sections below, we will prepare the data for use with the fastai library.  This is adapted from the fast.ai [ULMFit tutorial](https://github.com/fastai/course-nlp/blob/master/nn-vietnamese.ipynb)."
   ]
  },
  {
   "cell_type": "code",
   "execution_count": 29,
   "metadata": {},
   "outputs": [],
   "source": [
    "%reload_ext autoreload\n",
    "%autoreload 2"
   ]
  },
  {
   "cell_type": "code",
   "execution_count": 30,
   "metadata": {},
   "outputs": [],
   "source": [
    "from fastai import *\n",
    "from fastai.text import *\n",
    "import glob"
   ]
  },
  {
   "cell_type": "code",
   "execution_count": 31,
   "metadata": {},
   "outputs": [],
   "source": [
    "bs=48"
   ]
  },
  {
   "cell_type": "code",
   "execution_count": 32,
   "metadata": {},
   "outputs": [],
   "source": [
    "#torch.cuda.set_device(0)"
   ]
  },
  {
   "cell_type": "code",
   "execution_count": 33,
   "metadata": {},
   "outputs": [],
   "source": [
    "data_path = Config.data_path()"
   ]
  },
  {
   "cell_type": "code",
   "execution_count": 34,
   "metadata": {},
   "outputs": [],
   "source": [
    "name = 'bscore_lm'\n",
    "path = data_path/name\n",
    "path.mkdir(exist_ok=True, parents=True)"
   ]
  },
  {
   "cell_type": "markdown",
   "metadata": {},
   "source": [
    "### Target Language Model Databunch"
   ]
  },
  {
   "cell_type": "markdown",
   "metadata": {},
   "source": [
    "Convert the bootleg score features into string representations of decimal integers.  Generate one document per pdf."
   ]
  },
  {
   "cell_type": "code",
   "execution_count": 35,
   "metadata": {},
   "outputs": [],
   "source": [
    "path_docs = path/'docs_target'\n",
    "path_docs.mkdir(exist_ok=True)"
   ]
  },
  {
   "cell_type": "code",
   "execution_count": 36,
   "metadata": {},
   "outputs": [],
   "source": [
    "def convertBinaryToInt(X):\n",
    "    mask = np.power(2, np.arange(X.shape[0])).reshape((1,-1))\n",
    "    ints = np.squeeze(mask @ X).astype(np.uint64)\n",
    "    return list(ints)"
   ]
  },
  {
   "cell_type": "code",
   "execution_count": 37,
   "metadata": {},
   "outputs": [],
   "source": [
    "def isValid(matrixList):\n",
    "    for elem in matrixList:\n",
    "        if elem is None:\n",
    "            continue\n",
    "        else:\n",
    "            return True\n",
    "    return False"
   ]
  },
  {
   "cell_type": "code",
   "execution_count": 38,
   "metadata": {},
   "outputs": [],
   "source": [
    "def generateBootlegStringFiles(bscore_feats_file, outdir):\n",
    "    '''\n",
    "    Converts the bootleg score features to string decimal representation, and writes them\n",
    "    to text files in the specified directory.\n",
    "    '''\n",
    "    \n",
    "    with open(bscore_feats_file, 'rb') as f:\n",
    "        bscore_feats = pickle.load(f)[0]\n",
    "        \n",
    "    for pieceDir in bscore_feats: # e.g. score_feat/Bach/00748/\n",
    "        pid = pieceDir.split('/')[-2] # 00748\n",
    "        outfile = outdir/ (pid + '.txt')\n",
    "        if isValid(bscore_feats[pieceDir]): # has at least one valid page of features\n",
    "            with open(outfile,'w') as fout:\n",
    "                for binaryMatrix in bscore_feats[pieceDir]:\n",
    "                    if binaryMatrix is not None:\n",
    "                        ints = convertBinaryToInt(binaryMatrix)\n",
    "                        pageStr = ' '.join([str(i) for i in ints])\n",
    "                        fout.write(pageStr)\n",
    "                        fout.write('\\n\\n')\n",
    "                fout.write('</doc>')"
   ]
  },
  {
   "cell_type": "code",
   "execution_count": 39,
   "metadata": {},
   "outputs": [],
   "source": [
    "generateBootlegStringFiles(save_pages_file, path_docs)"
   ]
  },
  {
   "cell_type": "code",
   "execution_count": 40,
   "metadata": {},
   "outputs": [
    {
     "data": {
      "text/plain": [
       "[PosixPath('/home/sofiaedwards/.fastai/data/bscore_lm/docs_target/399771.txt'),\n",
       " PosixPath('/home/sofiaedwards/.fastai/data/bscore_lm/docs_target/55516.txt'),\n",
       " PosixPath('/home/sofiaedwards/.fastai/data/bscore_lm/docs_target/08953.txt'),\n",
       " PosixPath('/home/sofiaedwards/.fastai/data/bscore_lm/docs_target/00792.txt'),\n",
       " PosixPath('/home/sofiaedwards/.fastai/data/bscore_lm/docs_target/08916.txt')]"
      ]
     },
     "execution_count": 40,
     "metadata": {},
     "output_type": "execute_result"
    }
   ],
   "source": [
    "path_docs.ls()[:5]"
   ]
  },
  {
   "cell_type": "code",
   "execution_count": 41,
   "metadata": {},
   "outputs": [
    {
     "data": {
      "text/html": [],
      "text/plain": [
       "<IPython.core.display.HTML object>"
      ]
     },
     "metadata": {},
     "output_type": "display_data"
    },
    {
     "name": "stderr",
     "output_type": "stream",
     "text": [
      "/home/sofiaedwards/miniconda3/envs/env/lib/python3.7/site-packages/fastai/core.py:302: VisibleDeprecationWarning: Creating an ndarray from ragged nested sequences (which is a list-or-tuple of lists-or-tuples-or ndarrays with different lengths or shapes) is deprecated. If you meant to do this, you must specify 'dtype=object' when creating the ndarray\n",
      "  return np.array(a, dtype=dtype, **kwargs)\n"
     ]
    },
    {
     "data": {
      "text/html": [],
      "text/plain": [
       "<IPython.core.display.HTML object>"
      ]
     },
     "metadata": {},
     "output_type": "display_data"
    }
   ],
   "source": [
    "basicTokenizer = Tokenizer(pre_rules=[], post_rules=[])\n",
    "lm_target_data = (TextList.from_folder(path_docs, processor=[OpenFileProcessor(), TokenizeProcessor(tokenizer=basicTokenizer), NumericalizeProcessor()])\n",
    "            .split_by_rand_pct(0.1, seed=42)\n",
    "            .label_for_lm()           \n",
    "            .databunch(bs=bs, num_workers=1))\n",
    "\n",
    "lm_target_data.save(path/'lm_target_databunch')"
   ]
  },
  {
   "cell_type": "markdown",
   "metadata": {},
   "source": [
    "### IMSLP Language Model Databunch"
   ]
  },
  {
   "cell_type": "markdown",
   "metadata": {},
   "source": [
    "Same as above, but using the entire IMSLP piano bootleg score dataset."
   ]
  },
  {
   "cell_type": "code",
   "execution_count": 42,
   "metadata": {},
   "outputs": [],
   "source": [
    "#!git clone https://github.com/HMC-MIR/piano_bootleg_scores.git"
   ]
  },
  {
   "cell_type": "code",
   "execution_count": 43,
   "metadata": {},
   "outputs": [],
   "source": [
    "imslp_bscores_filelist = 'imslp_bscores.list'\n",
    "!find piano_bootleg_scores/imslp_bootleg_dir-v1/ -name *.pkl > {imslp_bscores_filelist}"
   ]
  },
  {
   "cell_type": "code",
   "execution_count": 44,
   "metadata": {},
   "outputs": [],
   "source": [
    "path_docs = path/'docs_imslp'\n",
    "path_docs.mkdir(exist_ok=True)"
   ]
  },
  {
   "cell_type": "code",
   "execution_count": 45,
   "metadata": {},
   "outputs": [],
   "source": [
    "def imslp2text(filelist, outdir):\n",
    "    with open(filelist, 'r') as f:\n",
    "        for line in f:\n",
    "            bscorefile = line.strip() # path/to/dest/283513.pkl\n",
    "            fileid = os.path.splitext(os.path.basename(bscorefile))[0] # e.g. 283513\n",
    "            outfile = outdir/f'{fileid}.txt'\n",
    "            bscore2textfile(bscorefile, outfile)"
   ]
  },
  {
   "cell_type": "code",
   "execution_count": 46,
   "metadata": {},
   "outputs": [],
   "source": [
    "def bscore2textfile(infile, outfile, min_thresh = 100):\n",
    "    '''\n",
    "    Converts a bootleg score .pkl file to text and writes to the specified output file.\n",
    "    '''\n",
    "    with open(infile, 'rb') as f:\n",
    "        d = pickle.load(f)\n",
    "    \n",
    "    with open(outfile, 'w') as fout:\n",
    "        for l in d: # each page\n",
    "            if len(l) > min_thresh: # to avoid filler pages\n",
    "                pageStr = ' '.join([str(i) for i in l])\n",
    "                fout.write(pageStr)\n",
    "                fout.write('\\n\\n')\n",
    "        fout.write('</doc>')"
   ]
  },
  {
   "cell_type": "code",
   "execution_count": 47,
   "metadata": {},
   "outputs": [],
   "source": [
    "imslp2text(imslp_bscores_filelist, path_docs)"
   ]
  },
  {
   "cell_type": "code",
   "execution_count": 48,
   "metadata": {
    "scrolled": false
   },
   "outputs": [
    {
     "data": {
      "text/plain": [
       "[PosixPath('/home/sofiaedwards/.fastai/data/bscore_lm/docs_imslp/237127.txt'),\n",
       " PosixPath('/home/sofiaedwards/.fastai/data/bscore_lm/docs_imslp/388118.txt'),\n",
       " PosixPath('/home/sofiaedwards/.fastai/data/bscore_lm/docs_imslp/86574.txt'),\n",
       " PosixPath('/home/sofiaedwards/.fastai/data/bscore_lm/docs_imslp/367246.txt'),\n",
       " PosixPath('/home/sofiaedwards/.fastai/data/bscore_lm/docs_imslp/417169.txt')]"
      ]
     },
     "execution_count": 48,
     "metadata": {},
     "output_type": "execute_result"
    }
   ],
   "source": [
    "path_docs.ls()[:5]"
   ]
  },
  {
   "cell_type": "code",
   "execution_count": 50,
   "metadata": {
    "scrolled": false
   },
   "outputs": [
    {
     "data": {
      "text/html": [
       "\n",
       "    <div>\n",
       "        <style>\n",
       "            /* Turns off some styling */\n",
       "            progress {\n",
       "                /* gets rid of default border in Firefox and Opera. */\n",
       "                border: none;\n",
       "                /* Needs to be in here for Safari polyfill so background images work as expected. */\n",
       "                background-size: auto;\n",
       "            }\n",
       "            .progress-bar-interrupted, .progress-bar-interrupted::-webkit-progress-bar {\n",
       "                background: #F44336;\n",
       "            }\n",
       "        </style>\n",
       "      <progress value='0' class='' max='3' style='width:300px; height:20px; vertical-align: middle;'></progress>\n",
       "      0.00% [0/3 00:00<00:00]\n",
       "    </div>\n",
       "    "
      ],
      "text/plain": [
       "<IPython.core.display.HTML object>"
      ]
     },
     "metadata": {},
     "output_type": "display_data"
    },
    {
     "ename": "BrokenProcessPool",
     "evalue": "A process in the process pool was terminated abruptly while the future was running or pending.",
     "output_type": "error",
     "traceback": [
      "\u001b[0;31m---------------------------------------------------------------------------\u001b[0m",
      "\u001b[0;31mBrokenProcessPool\u001b[0m                         Traceback (most recent call last)",
      "\u001b[0;32m/tmp/ipykernel_2599/1052917750.py\u001b[0m in \u001b[0;36m<module>\u001b[0;34m\u001b[0m\n\u001b[1;32m      1\u001b[0m lm_imslp_data = (TextList.from_folder(path_docs, processor=[OpenFileProcessor(), TokenizeProcessor(tokenizer=basicTokenizer), NumericalizeProcessor()])\n\u001b[0;32m----> 2\u001b[0;31m             \u001b[0;34m.\u001b[0m\u001b[0msplit_by_rand_pct\u001b[0m\u001b[0;34m(\u001b[0m\u001b[0;36m0.1\u001b[0m\u001b[0;34m,\u001b[0m \u001b[0mseed\u001b[0m\u001b[0;34m=\u001b[0m\u001b[0;36m42\u001b[0m\u001b[0;34m)\u001b[0m\u001b[0;34m\u001b[0m\u001b[0;34m\u001b[0m\u001b[0m\n\u001b[0m\u001b[1;32m      3\u001b[0m             \u001b[0;34m.\u001b[0m\u001b[0mlabel_for_lm\u001b[0m\u001b[0;34m(\u001b[0m\u001b[0;34m)\u001b[0m\u001b[0;34m\u001b[0m\u001b[0;34m\u001b[0m\u001b[0m\n\u001b[1;32m      4\u001b[0m             .databunch(bs=bs, num_workers=2))\n\u001b[1;32m      5\u001b[0m \u001b[0;34m\u001b[0m\u001b[0m\n",
      "\u001b[0;32m~/miniconda3/envs/env/lib/python3.7/site-packages/fastai/data_block.py\u001b[0m in \u001b[0;36m_inner\u001b[0;34m(*args, **kwargs)\u001b[0m\n\u001b[1;32m    482\u001b[0m             \u001b[0mself\u001b[0m\u001b[0;34m.\u001b[0m\u001b[0mvalid\u001b[0m \u001b[0;34m=\u001b[0m \u001b[0mfv\u001b[0m\u001b[0;34m(\u001b[0m\u001b[0;34m*\u001b[0m\u001b[0margs\u001b[0m\u001b[0;34m,\u001b[0m \u001b[0mfrom_item_lists\u001b[0m\u001b[0;34m=\u001b[0m\u001b[0;32mTrue\u001b[0m\u001b[0;34m,\u001b[0m \u001b[0;34m**\u001b[0m\u001b[0mkwargs\u001b[0m\u001b[0;34m)\u001b[0m\u001b[0;34m\u001b[0m\u001b[0;34m\u001b[0m\u001b[0m\n\u001b[1;32m    483\u001b[0m             \u001b[0mself\u001b[0m\u001b[0;34m.\u001b[0m\u001b[0m__class__\u001b[0m \u001b[0;34m=\u001b[0m \u001b[0mLabelLists\u001b[0m\u001b[0;34m\u001b[0m\u001b[0;34m\u001b[0m\u001b[0m\n\u001b[0;32m--> 484\u001b[0;31m             \u001b[0mself\u001b[0m\u001b[0;34m.\u001b[0m\u001b[0mprocess\u001b[0m\u001b[0;34m(\u001b[0m\u001b[0;34m)\u001b[0m\u001b[0;34m\u001b[0m\u001b[0;34m\u001b[0m\u001b[0m\n\u001b[0m\u001b[1;32m    485\u001b[0m             \u001b[0;32mreturn\u001b[0m \u001b[0mself\u001b[0m\u001b[0;34m\u001b[0m\u001b[0;34m\u001b[0m\u001b[0m\n\u001b[1;32m    486\u001b[0m         \u001b[0;32mreturn\u001b[0m \u001b[0m_inner\u001b[0m\u001b[0;34m\u001b[0m\u001b[0;34m\u001b[0m\u001b[0m\n",
      "\u001b[0;32m~/miniconda3/envs/env/lib/python3.7/site-packages/fastai/data_block.py\u001b[0m in \u001b[0;36mprocess\u001b[0;34m(self)\u001b[0m\n\u001b[1;32m    536\u001b[0m         \u001b[0;34m\"Process the inner datasets.\"\u001b[0m\u001b[0;34m\u001b[0m\u001b[0;34m\u001b[0m\u001b[0m\n\u001b[1;32m    537\u001b[0m         \u001b[0mxp\u001b[0m\u001b[0;34m,\u001b[0m\u001b[0myp\u001b[0m \u001b[0;34m=\u001b[0m \u001b[0mself\u001b[0m\u001b[0;34m.\u001b[0m\u001b[0mget_processors\u001b[0m\u001b[0;34m(\u001b[0m\u001b[0;34m)\u001b[0m\u001b[0;34m\u001b[0m\u001b[0;34m\u001b[0m\u001b[0m\n\u001b[0;32m--> 538\u001b[0;31m         \u001b[0;32mfor\u001b[0m \u001b[0mds\u001b[0m\u001b[0;34m,\u001b[0m\u001b[0mn\u001b[0m \u001b[0;32min\u001b[0m \u001b[0mzip\u001b[0m\u001b[0;34m(\u001b[0m\u001b[0mself\u001b[0m\u001b[0;34m.\u001b[0m\u001b[0mlists\u001b[0m\u001b[0;34m,\u001b[0m \u001b[0;34m[\u001b[0m\u001b[0;34m'train'\u001b[0m\u001b[0;34m,\u001b[0m\u001b[0;34m'valid'\u001b[0m\u001b[0;34m,\u001b[0m\u001b[0;34m'test'\u001b[0m\u001b[0;34m]\u001b[0m\u001b[0;34m)\u001b[0m\u001b[0;34m:\u001b[0m \u001b[0mds\u001b[0m\u001b[0;34m.\u001b[0m\u001b[0mprocess\u001b[0m\u001b[0;34m(\u001b[0m\u001b[0mxp\u001b[0m\u001b[0;34m,\u001b[0m \u001b[0myp\u001b[0m\u001b[0;34m,\u001b[0m \u001b[0mname\u001b[0m\u001b[0;34m=\u001b[0m\u001b[0mn\u001b[0m\u001b[0;34m)\u001b[0m\u001b[0;34m\u001b[0m\u001b[0;34m\u001b[0m\u001b[0m\n\u001b[0m\u001b[1;32m    539\u001b[0m         \u001b[0;31m#progress_bar clear the outputs so in some case warnings issued during processing disappear.\u001b[0m\u001b[0;34m\u001b[0m\u001b[0;34m\u001b[0m\u001b[0;34m\u001b[0m\u001b[0m\n\u001b[1;32m    540\u001b[0m         \u001b[0;32mfor\u001b[0m \u001b[0mds\u001b[0m \u001b[0;32min\u001b[0m \u001b[0mself\u001b[0m\u001b[0;34m.\u001b[0m\u001b[0mlists\u001b[0m\u001b[0;34m:\u001b[0m\u001b[0;34m\u001b[0m\u001b[0;34m\u001b[0m\u001b[0m\n",
      "\u001b[0;32m~/miniconda3/envs/env/lib/python3.7/site-packages/fastai/data_block.py\u001b[0m in \u001b[0;36mprocess\u001b[0;34m(self, xp, yp, name, max_warn_items)\u001b[0m\n\u001b[1;32m    716\u001b[0m                     \u001b[0mp\u001b[0m\u001b[0;34m.\u001b[0m\u001b[0mwarns\u001b[0m \u001b[0;34m=\u001b[0m \u001b[0;34m[\u001b[0m\u001b[0;34m]\u001b[0m\u001b[0;34m\u001b[0m\u001b[0;34m\u001b[0m\u001b[0m\n\u001b[1;32m    717\u001b[0m                 \u001b[0mself\u001b[0m\u001b[0;34m.\u001b[0m\u001b[0mx\u001b[0m\u001b[0;34m,\u001b[0m\u001b[0mself\u001b[0m\u001b[0;34m.\u001b[0m\u001b[0my\u001b[0m \u001b[0;34m=\u001b[0m \u001b[0mself\u001b[0m\u001b[0;34m.\u001b[0m\u001b[0mx\u001b[0m\u001b[0;34m[\u001b[0m\u001b[0;34m~\u001b[0m\u001b[0mfilt\u001b[0m\u001b[0;34m]\u001b[0m\u001b[0;34m,\u001b[0m\u001b[0mself\u001b[0m\u001b[0;34m.\u001b[0m\u001b[0my\u001b[0m\u001b[0;34m[\u001b[0m\u001b[0;34m~\u001b[0m\u001b[0mfilt\u001b[0m\u001b[0;34m]\u001b[0m\u001b[0;34m\u001b[0m\u001b[0;34m\u001b[0m\u001b[0m\n\u001b[0;32m--> 718\u001b[0;31m         \u001b[0mself\u001b[0m\u001b[0;34m.\u001b[0m\u001b[0mx\u001b[0m\u001b[0;34m.\u001b[0m\u001b[0mprocess\u001b[0m\u001b[0;34m(\u001b[0m\u001b[0mxp\u001b[0m\u001b[0;34m)\u001b[0m\u001b[0;34m\u001b[0m\u001b[0;34m\u001b[0m\u001b[0m\n\u001b[0m\u001b[1;32m    719\u001b[0m         \u001b[0;32mreturn\u001b[0m \u001b[0mself\u001b[0m\u001b[0;34m\u001b[0m\u001b[0;34m\u001b[0m\u001b[0m\n\u001b[1;32m    720\u001b[0m \u001b[0;34m\u001b[0m\u001b[0m\n",
      "\u001b[0;32m~/miniconda3/envs/env/lib/python3.7/site-packages/fastai/data_block.py\u001b[0m in \u001b[0;36mprocess\u001b[0;34m(self, processor)\u001b[0m\n\u001b[1;32m     82\u001b[0m         \u001b[0;32mif\u001b[0m \u001b[0mprocessor\u001b[0m \u001b[0;32mis\u001b[0m \u001b[0;32mnot\u001b[0m \u001b[0;32mNone\u001b[0m\u001b[0;34m:\u001b[0m \u001b[0mself\u001b[0m\u001b[0;34m.\u001b[0m\u001b[0mprocessor\u001b[0m \u001b[0;34m=\u001b[0m \u001b[0mprocessor\u001b[0m\u001b[0;34m\u001b[0m\u001b[0;34m\u001b[0m\u001b[0m\n\u001b[1;32m     83\u001b[0m         \u001b[0mself\u001b[0m\u001b[0;34m.\u001b[0m\u001b[0mprocessor\u001b[0m \u001b[0;34m=\u001b[0m \u001b[0mlistify\u001b[0m\u001b[0;34m(\u001b[0m\u001b[0mself\u001b[0m\u001b[0;34m.\u001b[0m\u001b[0mprocessor\u001b[0m\u001b[0;34m)\u001b[0m\u001b[0;34m\u001b[0m\u001b[0;34m\u001b[0m\u001b[0m\n\u001b[0;32m---> 84\u001b[0;31m         \u001b[0;32mfor\u001b[0m \u001b[0mp\u001b[0m \u001b[0;32min\u001b[0m \u001b[0mself\u001b[0m\u001b[0;34m.\u001b[0m\u001b[0mprocessor\u001b[0m\u001b[0;34m:\u001b[0m \u001b[0mp\u001b[0m\u001b[0;34m.\u001b[0m\u001b[0mprocess\u001b[0m\u001b[0;34m(\u001b[0m\u001b[0mself\u001b[0m\u001b[0;34m)\u001b[0m\u001b[0;34m\u001b[0m\u001b[0;34m\u001b[0m\u001b[0m\n\u001b[0m\u001b[1;32m     85\u001b[0m         \u001b[0;32mreturn\u001b[0m \u001b[0mself\u001b[0m\u001b[0;34m\u001b[0m\u001b[0;34m\u001b[0m\u001b[0m\n\u001b[1;32m     86\u001b[0m \u001b[0;34m\u001b[0m\u001b[0m\n",
      "\u001b[0;32m~/miniconda3/envs/env/lib/python3.7/site-packages/fastai/text/data.py\u001b[0m in \u001b[0;36mprocess\u001b[0;34m(self, ds)\u001b[0m\n\u001b[1;32m    295\u001b[0m         \u001b[0mtokens\u001b[0m \u001b[0;34m=\u001b[0m \u001b[0;34m[\u001b[0m\u001b[0;34m]\u001b[0m\u001b[0;34m\u001b[0m\u001b[0;34m\u001b[0m\u001b[0m\n\u001b[1;32m    296\u001b[0m         \u001b[0;32mfor\u001b[0m \u001b[0mi\u001b[0m \u001b[0;32min\u001b[0m \u001b[0mprogress_bar\u001b[0m\u001b[0;34m(\u001b[0m\u001b[0mrange\u001b[0m\u001b[0;34m(\u001b[0m\u001b[0;36m0\u001b[0m\u001b[0;34m,\u001b[0m\u001b[0mlen\u001b[0m\u001b[0;34m(\u001b[0m\u001b[0mds\u001b[0m\u001b[0;34m)\u001b[0m\u001b[0;34m,\u001b[0m\u001b[0mself\u001b[0m\u001b[0;34m.\u001b[0m\u001b[0mchunksize\u001b[0m\u001b[0;34m)\u001b[0m\u001b[0;34m,\u001b[0m \u001b[0mleave\u001b[0m\u001b[0;34m=\u001b[0m\u001b[0;32mFalse\u001b[0m\u001b[0;34m)\u001b[0m\u001b[0;34m:\u001b[0m\u001b[0;34m\u001b[0m\u001b[0;34m\u001b[0m\u001b[0m\n\u001b[0;32m--> 297\u001b[0;31m             \u001b[0mtokens\u001b[0m \u001b[0;34m+=\u001b[0m \u001b[0mself\u001b[0m\u001b[0;34m.\u001b[0m\u001b[0mtokenizer\u001b[0m\u001b[0;34m.\u001b[0m\u001b[0mprocess_all\u001b[0m\u001b[0;34m(\u001b[0m\u001b[0mds\u001b[0m\u001b[0;34m.\u001b[0m\u001b[0mitems\u001b[0m\u001b[0;34m[\u001b[0m\u001b[0mi\u001b[0m\u001b[0;34m:\u001b[0m\u001b[0mi\u001b[0m\u001b[0;34m+\u001b[0m\u001b[0mself\u001b[0m\u001b[0;34m.\u001b[0m\u001b[0mchunksize\u001b[0m\u001b[0;34m]\u001b[0m\u001b[0;34m)\u001b[0m\u001b[0;34m\u001b[0m\u001b[0;34m\u001b[0m\u001b[0m\n\u001b[0m\u001b[1;32m    298\u001b[0m         \u001b[0mds\u001b[0m\u001b[0;34m.\u001b[0m\u001b[0mitems\u001b[0m \u001b[0;34m=\u001b[0m \u001b[0mtokens\u001b[0m\u001b[0;34m\u001b[0m\u001b[0;34m\u001b[0m\u001b[0m\n\u001b[1;32m    299\u001b[0m \u001b[0;34m\u001b[0m\u001b[0m\n",
      "\u001b[0;32m~/miniconda3/envs/env/lib/python3.7/site-packages/fastai/text/transform.py\u001b[0m in \u001b[0;36mprocess_all\u001b[0;34m(self, texts)\u001b[0m\n\u001b[1;32m    118\u001b[0m         \u001b[0;32mif\u001b[0m \u001b[0mself\u001b[0m\u001b[0;34m.\u001b[0m\u001b[0mn_cpus\u001b[0m \u001b[0;34m<=\u001b[0m \u001b[0;36m1\u001b[0m\u001b[0;34m:\u001b[0m \u001b[0;32mreturn\u001b[0m \u001b[0mself\u001b[0m\u001b[0;34m.\u001b[0m\u001b[0m_process_all_1\u001b[0m\u001b[0;34m(\u001b[0m\u001b[0mtexts\u001b[0m\u001b[0;34m)\u001b[0m\u001b[0;34m\u001b[0m\u001b[0;34m\u001b[0m\u001b[0m\n\u001b[1;32m    119\u001b[0m         \u001b[0;32mwith\u001b[0m \u001b[0mProcessPoolExecutor\u001b[0m\u001b[0;34m(\u001b[0m\u001b[0mself\u001b[0m\u001b[0;34m.\u001b[0m\u001b[0mn_cpus\u001b[0m\u001b[0;34m)\u001b[0m \u001b[0;32mas\u001b[0m \u001b[0me\u001b[0m\u001b[0;34m:\u001b[0m\u001b[0;34m\u001b[0m\u001b[0;34m\u001b[0m\u001b[0m\n\u001b[0;32m--> 120\u001b[0;31m             \u001b[0;32mreturn\u001b[0m \u001b[0msum\u001b[0m\u001b[0;34m(\u001b[0m\u001b[0me\u001b[0m\u001b[0;34m.\u001b[0m\u001b[0mmap\u001b[0m\u001b[0;34m(\u001b[0m\u001b[0mself\u001b[0m\u001b[0;34m.\u001b[0m\u001b[0m_process_all_1\u001b[0m\u001b[0;34m,\u001b[0m \u001b[0mpartition_by_cores\u001b[0m\u001b[0;34m(\u001b[0m\u001b[0mtexts\u001b[0m\u001b[0;34m,\u001b[0m \u001b[0mself\u001b[0m\u001b[0;34m.\u001b[0m\u001b[0mn_cpus\u001b[0m\u001b[0;34m)\u001b[0m\u001b[0;34m)\u001b[0m\u001b[0;34m,\u001b[0m \u001b[0;34m[\u001b[0m\u001b[0;34m]\u001b[0m\u001b[0;34m)\u001b[0m\u001b[0;34m\u001b[0m\u001b[0;34m\u001b[0m\u001b[0m\n\u001b[0m\u001b[1;32m    121\u001b[0m \u001b[0;34m\u001b[0m\u001b[0m\n\u001b[1;32m    122\u001b[0m \u001b[0;32mclass\u001b[0m \u001b[0mVocab\u001b[0m\u001b[0;34m(\u001b[0m\u001b[0;34m)\u001b[0m\u001b[0;34m:\u001b[0m\u001b[0;34m\u001b[0m\u001b[0;34m\u001b[0m\u001b[0m\n",
      "\u001b[0;32m~/miniconda3/envs/env/lib/python3.7/concurrent/futures/process.py\u001b[0m in \u001b[0;36m_chain_from_iterable_of_lists\u001b[0;34m(iterable)\u001b[0m\n\u001b[1;32m    481\u001b[0m     \u001b[0mcareful\u001b[0m \u001b[0;32mnot\u001b[0m \u001b[0mto\u001b[0m \u001b[0mkeep\u001b[0m \u001b[0mreferences\u001b[0m \u001b[0mto\u001b[0m \u001b[0myielded\u001b[0m \u001b[0mobjects\u001b[0m\u001b[0;34m.\u001b[0m\u001b[0;34m\u001b[0m\u001b[0;34m\u001b[0m\u001b[0m\n\u001b[1;32m    482\u001b[0m     \"\"\"\n\u001b[0;32m--> 483\u001b[0;31m     \u001b[0;32mfor\u001b[0m \u001b[0melement\u001b[0m \u001b[0;32min\u001b[0m \u001b[0miterable\u001b[0m\u001b[0;34m:\u001b[0m\u001b[0;34m\u001b[0m\u001b[0;34m\u001b[0m\u001b[0m\n\u001b[0m\u001b[1;32m    484\u001b[0m         \u001b[0melement\u001b[0m\u001b[0;34m.\u001b[0m\u001b[0mreverse\u001b[0m\u001b[0;34m(\u001b[0m\u001b[0;34m)\u001b[0m\u001b[0;34m\u001b[0m\u001b[0;34m\u001b[0m\u001b[0m\n\u001b[1;32m    485\u001b[0m         \u001b[0;32mwhile\u001b[0m \u001b[0melement\u001b[0m\u001b[0;34m:\u001b[0m\u001b[0;34m\u001b[0m\u001b[0;34m\u001b[0m\u001b[0m\n",
      "\u001b[0;32m~/miniconda3/envs/env/lib/python3.7/concurrent/futures/_base.py\u001b[0m in \u001b[0;36mresult_iterator\u001b[0;34m()\u001b[0m\n\u001b[1;32m    596\u001b[0m                     \u001b[0;31m# Careful not to keep a reference to the popped future\u001b[0m\u001b[0;34m\u001b[0m\u001b[0;34m\u001b[0m\u001b[0;34m\u001b[0m\u001b[0m\n\u001b[1;32m    597\u001b[0m                     \u001b[0;32mif\u001b[0m \u001b[0mtimeout\u001b[0m \u001b[0;32mis\u001b[0m \u001b[0;32mNone\u001b[0m\u001b[0;34m:\u001b[0m\u001b[0;34m\u001b[0m\u001b[0;34m\u001b[0m\u001b[0m\n\u001b[0;32m--> 598\u001b[0;31m                         \u001b[0;32myield\u001b[0m \u001b[0mfs\u001b[0m\u001b[0;34m.\u001b[0m\u001b[0mpop\u001b[0m\u001b[0;34m(\u001b[0m\u001b[0;34m)\u001b[0m\u001b[0;34m.\u001b[0m\u001b[0mresult\u001b[0m\u001b[0;34m(\u001b[0m\u001b[0;34m)\u001b[0m\u001b[0;34m\u001b[0m\u001b[0;34m\u001b[0m\u001b[0m\n\u001b[0m\u001b[1;32m    599\u001b[0m                     \u001b[0;32melse\u001b[0m\u001b[0;34m:\u001b[0m\u001b[0;34m\u001b[0m\u001b[0;34m\u001b[0m\u001b[0m\n\u001b[1;32m    600\u001b[0m                         \u001b[0;32myield\u001b[0m \u001b[0mfs\u001b[0m\u001b[0;34m.\u001b[0m\u001b[0mpop\u001b[0m\u001b[0;34m(\u001b[0m\u001b[0;34m)\u001b[0m\u001b[0;34m.\u001b[0m\u001b[0mresult\u001b[0m\u001b[0;34m(\u001b[0m\u001b[0mend_time\u001b[0m \u001b[0;34m-\u001b[0m \u001b[0mtime\u001b[0m\u001b[0;34m.\u001b[0m\u001b[0mmonotonic\u001b[0m\u001b[0;34m(\u001b[0m\u001b[0;34m)\u001b[0m\u001b[0;34m)\u001b[0m\u001b[0;34m\u001b[0m\u001b[0;34m\u001b[0m\u001b[0m\n",
      "\u001b[0;32m~/miniconda3/envs/env/lib/python3.7/concurrent/futures/_base.py\u001b[0m in \u001b[0;36mresult\u001b[0;34m(self, timeout)\u001b[0m\n\u001b[1;32m    433\u001b[0m                 \u001b[0;32mraise\u001b[0m \u001b[0mCancelledError\u001b[0m\u001b[0;34m(\u001b[0m\u001b[0;34m)\u001b[0m\u001b[0;34m\u001b[0m\u001b[0;34m\u001b[0m\u001b[0m\n\u001b[1;32m    434\u001b[0m             \u001b[0;32melif\u001b[0m \u001b[0mself\u001b[0m\u001b[0;34m.\u001b[0m\u001b[0m_state\u001b[0m \u001b[0;34m==\u001b[0m \u001b[0mFINISHED\u001b[0m\u001b[0;34m:\u001b[0m\u001b[0;34m\u001b[0m\u001b[0;34m\u001b[0m\u001b[0m\n\u001b[0;32m--> 435\u001b[0;31m                 \u001b[0;32mreturn\u001b[0m \u001b[0mself\u001b[0m\u001b[0;34m.\u001b[0m\u001b[0m__get_result\u001b[0m\u001b[0;34m(\u001b[0m\u001b[0;34m)\u001b[0m\u001b[0;34m\u001b[0m\u001b[0;34m\u001b[0m\u001b[0m\n\u001b[0m\u001b[1;32m    436\u001b[0m             \u001b[0;32melse\u001b[0m\u001b[0;34m:\u001b[0m\u001b[0;34m\u001b[0m\u001b[0;34m\u001b[0m\u001b[0m\n\u001b[1;32m    437\u001b[0m                 \u001b[0;32mraise\u001b[0m \u001b[0mTimeoutError\u001b[0m\u001b[0;34m(\u001b[0m\u001b[0;34m)\u001b[0m\u001b[0;34m\u001b[0m\u001b[0;34m\u001b[0m\u001b[0m\n",
      "\u001b[0;32m~/miniconda3/envs/env/lib/python3.7/concurrent/futures/_base.py\u001b[0m in \u001b[0;36m__get_result\u001b[0;34m(self)\u001b[0m\n\u001b[1;32m    382\u001b[0m     \u001b[0;32mdef\u001b[0m \u001b[0m__get_result\u001b[0m\u001b[0;34m(\u001b[0m\u001b[0mself\u001b[0m\u001b[0;34m)\u001b[0m\u001b[0;34m:\u001b[0m\u001b[0;34m\u001b[0m\u001b[0;34m\u001b[0m\u001b[0m\n\u001b[1;32m    383\u001b[0m         \u001b[0;32mif\u001b[0m \u001b[0mself\u001b[0m\u001b[0;34m.\u001b[0m\u001b[0m_exception\u001b[0m\u001b[0;34m:\u001b[0m\u001b[0;34m\u001b[0m\u001b[0;34m\u001b[0m\u001b[0m\n\u001b[0;32m--> 384\u001b[0;31m             \u001b[0;32mraise\u001b[0m \u001b[0mself\u001b[0m\u001b[0;34m.\u001b[0m\u001b[0m_exception\u001b[0m\u001b[0;34m\u001b[0m\u001b[0;34m\u001b[0m\u001b[0m\n\u001b[0m\u001b[1;32m    385\u001b[0m         \u001b[0;32melse\u001b[0m\u001b[0;34m:\u001b[0m\u001b[0;34m\u001b[0m\u001b[0;34m\u001b[0m\u001b[0m\n\u001b[1;32m    386\u001b[0m             \u001b[0;32mreturn\u001b[0m \u001b[0mself\u001b[0m\u001b[0;34m.\u001b[0m\u001b[0m_result\u001b[0m\u001b[0;34m\u001b[0m\u001b[0;34m\u001b[0m\u001b[0m\n",
      "\u001b[0;31mBrokenProcessPool\u001b[0m: A process in the process pool was terminated abruptly while the future was running or pending."
     ]
    }
   ],
   "source": [
    "lm_imslp_data = (TextList.from_folder(path_docs, processor=[OpenFileProcessor(), TokenizeProcessor(tokenizer=basicTokenizer), NumericalizeProcessor()])\n",
    "            .split_by_rand_pct(0.1, seed=42)\n",
    "            .label_for_lm()           \n",
    "            .databunch(bs=bs, num_workers=2))\n",
    "\n",
    "lm_imslp_data.save(path/'lm_imslp_databunch')"
   ]
  },
  {
   "cell_type": "markdown",
   "metadata": {},
   "source": [
    "### Classification data"
   ]
  },
  {
   "cell_type": "markdown",
   "metadata": {},
   "source": [
    "Here we prepare the train.csv, valid.csv, and test.csv files for the proxy classification task."
   ]
  },
  {
   "cell_type": "code",
   "execution_count": null,
   "metadata": {},
   "outputs": [],
   "source": [
    "def generateBootlegCSVFiles(bscore_feats_file, idx2composer, outfile_train, outfile_valid, outfile_test):\n",
    "    '''\n",
    "    Generates train.csv and test.csv from bootleg score fragments.\n",
    "    '''\n",
    "    with open(bscore_feats_file, 'rb') as f:\n",
    "        X_train, y_train, _, X_valid, y_valid, _, X_test, y_test, _ = pickle.load(f)\n",
    "        \n",
    "    y_train = [idx2composer[idx] for idx in y_train]\n",
    "    y_valid = [idx2composer[idx] for idx in y_valid]\n",
    "    y_test = [idx2composer[idx] for idx in y_test]\n",
    "    \n",
    "    with open(outfile_train, 'w') as fout:\n",
    "        fout.write('label,text\\n')\n",
    "        for i in range(X_train.shape[0]):\n",
    "            ints = convertBinaryToInt(X_train[i,:,:])\n",
    "            pageStr = ' '.join([str(i) for i in ints])\n",
    "            fout.write(f'{y_train[i]},')\n",
    "            fout.write(pageStr)\n",
    "            fout.write('\\n')\n",
    "\n",
    "    with open(outfile_valid, 'w') as fout:\n",
    "        fout.write('label,text\\n')\n",
    "        for i in range(X_valid.shape[0]):\n",
    "            ints = convertBinaryToInt(X_valid[i,:,:])\n",
    "            pageStr = ' '.join([str(i) for i in ints])\n",
    "            fout.write(f'{y_valid[i]},')\n",
    "            fout.write(pageStr)\n",
    "            fout.write('\\n')\n",
    "\n",
    "    with open(outfile_test, 'w') as fout:\n",
    "        fout.write('label,text\\n')\n",
    "        for i in range(X_test.shape[0]):\n",
    "            ints = convertBinaryToInt(X_test[i,:,:])\n",
    "            pageStr = ' '.join([str(i) for i in ints])\n",
    "            fout.write(f'{y_test[i]},')\n",
    "            fout.write(pageStr)\n",
    "            fout.write('\\n')\n",
    "            \n",
    "    return"
   ]
  },
  {
   "cell_type": "code",
   "execution_count": null,
   "metadata": {},
   "outputs": [],
   "source": [
    "save_chunks_file = 'score_feat/data.chunks256.pkl'"
   ]
  },
  {
   "cell_type": "code",
   "execution_count": null,
   "metadata": {},
   "outputs": [],
   "source": [
    "csv_train_file = path/'train256.csv'\n",
    "csv_valid_file = path/'valid256.csv'\n",
    "csv_test_file = path/'test256.csv'\n",
    "generateBootlegCSVFiles(save_chunks_file, composers, csv_train_file, csv_valid_file, csv_test_file)"
   ]
  },
  {
   "cell_type": "markdown",
   "metadata": {},
   "source": [
    "We also generate csv files for evaluating on the original page classification task."
   ]
  },
  {
   "cell_type": "code",
   "execution_count": null,
   "metadata": {},
   "outputs": [],
   "source": [
    "def generateFullPageCSVFiles(bscore_pages_file, outfile_train, outfile_valid, outfile_test):\n",
    "    '''\n",
    "    Generates csv files for the original task of classifying full pages of music.\n",
    "    '''\n",
    "    \n",
    "    with open(bscore_pages_file, 'rb') as f:\n",
    "        d, pieceDirs_train, pieceDirs_valid, pieceDirs_test = pickle.load(f)\n",
    "    \n",
    "    generateFullPageCSV(d, pieceDirs_train, outfile_train)\n",
    "    generateFullPageCSV(d, pieceDirs_valid, outfile_valid)\n",
    "    generateFullPageCSV(d, pieceDirs_test, outfile_test)"
   ]
  },
  {
   "cell_type": "code",
   "execution_count": null,
   "metadata": {},
   "outputs": [],
   "source": [
    "def generateFullPageCSV(d, keys, outfile):\n",
    "    \n",
    "    with open(outfile, 'w') as fout:\n",
    "        fout.write('label,text\\n')\n",
    "        for pieceDir in keys: # e.g. score_feat/Bach/00748/\n",
    "            composer = pieceDir.split('/')[-3]\n",
    "            for m in d[pieceDir]: # d[pieceDir] -> list of binary bootleg score matrices, one per page\n",
    "                if m is not None:\n",
    "                    ints = convertBinaryToInt(m)\n",
    "                    textStr = ' '.join([str(i) for i in ints])\n",
    "                    fout.write(f'{composer},{textStr}\\n')"
   ]
  },
  {
   "cell_type": "code",
   "execution_count": null,
   "metadata": {},
   "outputs": [],
   "source": [
    "csv_train_file = path/'train.fullpage.csv'\n",
    "csv_valid_file = path/'valid.fullpage.csv'\n",
    "csv_test_file = path/'test.fullpage.csv'\n",
    "generateFullPageCSVFiles(save_pages_file, csv_train_file, csv_valid_file, csv_test_file)"
   ]
  },
  {
   "cell_type": "markdown",
   "metadata": {},
   "source": [
    "Finally, we also generate csv files to facilitate evaluating fixed-length classifiers on the full page classification task.  These classifiers will be applied to multiple windows of features, and the predictions will be averaged."
   ]
  },
  {
   "cell_type": "code",
   "execution_count": null,
   "metadata": {},
   "outputs": [],
   "source": [
    "def generateEnsembleCSV(bscore_pages_file, chunkSz, outfile_test):\n",
    "    '''\n",
    "    Generates a csv file to facilitate evaluating fixed-length classifiers on the full page classification task.\n",
    "    Each line in the file corresponds to a fixed-length window of samples within a page.  The predictions from\n",
    "    all windows within a single page can then be averaged and evaluated.\n",
    "    '''\n",
    "    with open(bscore_pages_file, 'rb') as f:\n",
    "        d, pieceDirs_train, pieceDirs_valid, pieceDirs_test = pickle.load(f)\n",
    "        \n",
    "    with open(outfile_test, 'w') as fout:\n",
    "        fout.write('id,label,text\\n')\n",
    "        for pieceDir in pieceDirs_test: # e.g. score_feat/Bach/00748/\n",
    "            pieceID = pieceDir.split('/')[-2]\n",
    "            composer = pieceDir.split('/')[-3]\n",
    "            for i, m in enumerate(d[pieceDir]): # d[pieceDir] -> list of binary bootleg score matrices, one per page\n",
    "                if m is not None and m.shape[1] > 0:\n",
    "                    if m.shape[1] <= chunkSz: # only 1 window\n",
    "                        ints = convertBinaryToInt(m)\n",
    "                        textStr = ' '.join([str(i) for i in ints])\n",
    "                        idString = f'{pieceID}_{i}_0' # id: pieceID_pageIdx_chunkIdx\n",
    "                        fout.write(f'{idString},{composer},{textStr}\\n')\n",
    "                    else: # multiple windows\n",
    "                        numWindows = int(np.ceil(m.shape[1]/(chunkSz/2))) - 1 # hop by half the chunk size\n",
    "                        for j in range(numWindows - 1):\n",
    "                            startIdx = chunkSz // 2 * j\n",
    "                            endIdx = startIdx + chunkSz\n",
    "                            ints = convertBinaryToInt(m[:,startIdx:endIdx])\n",
    "                            textStr = ' '.join([str(i) for i in ints])\n",
    "                            idString = f'{pieceID}_{i}_{j}' # id: pieceID_pageIdx_chunkIdx\n",
    "                            fout.write(f'{idString},{composer},{textStr}\\n')\n",
    "                        # handle last window\n",
    "                        ints = convertBinaryToInt(m[:,-chunkSz:])\n",
    "                        textStr = ' '.join([str(i) for i in ints])\n",
    "                        idString = f'{pieceID}_{i}_{numWindows-1}' \n",
    "                        fout.write(f'{idString},{composer},{textStr}\\n')"
   ]
  },
  {
   "cell_type": "code",
   "execution_count": null,
   "metadata": {},
   "outputs": [],
   "source": [
    "csv_test_file = path/'test.ensemble256.csv'\n",
    "generateEnsembleCSV(save_pages_file, 256, csv_test_file)"
   ]
  },
  {
   "cell_type": "markdown",
   "metadata": {},
   "source": [
    "# Data Preparation for Transformer models"
   ]
  },
  {
   "cell_type": "markdown",
   "metadata": {},
   "source": [
    "Here we prepare the data for training and testing the Transformer-based models.  Instead of using decimal string representations, we represent each 62-bit bootleg score feature as a sequence of 8 one-byte characters.  Rather than generating these from scratch, we will simply convert the existing files to the new format."
   ]
  },
  {
   "cell_type": "markdown",
   "metadata": {},
   "source": [
    "### Prep data for language modeling"
   ]
  },
  {
   "cell_type": "code",
   "execution_count": null,
   "metadata": {},
   "outputs": [],
   "source": [
    "def generateLMTrainFiles(indir, out_train, out_valid, val_frac=0.1):\n",
    "    \n",
    "    # split train/validation by file\n",
    "    filelist = sorted(glob.glob('{}/*.txt'.format(indir)))\n",
    "    np.random.seed(0)\n",
    "    np.random.shuffle(filelist)\n",
    "    endIdx = int(len(filelist) * (1-val_frac)) + 1\n",
    "    train_files = filelist[0:endIdx]\n",
    "    valid_files = filelist[endIdx:]\n",
    "    \n",
    "    # convert to binary string representation\n",
    "    convertToByteChars(train_files, out_train)\n",
    "    convertToByteChars(valid_files, out_valid)"
   ]
  },
  {
   "cell_type": "code",
   "execution_count": null,
   "metadata": {},
   "outputs": [],
   "source": [
    "def convertToByteChars(filelist, outfile):\n",
    "    '''\n",
    "    Split each 62-bit bootleg score feature into 8 bytes, and express each byte as a single character.\n",
    "    Consecutive bootleg score feature `words' will be separated by space.\n",
    "    '''\n",
    "    with open(outfile, 'w') as fout:\n",
    "        for infile in filelist:\n",
    "            with open(infile, 'r') as fin:\n",
    "                for line in fin:\n",
    "                    line = line.strip()\n",
    "                    if len(line) > 0:\n",
    "                        if line == '</doc>':\n",
    "                            pass # skip\n",
    "                        else:\n",
    "                            converted = convertLineToCharSeq(line)\n",
    "                            fout.write(f'{converted}\\n')\n",
    "            fout.write('\\n')"
   ]
  },
  {
   "cell_type": "code",
   "execution_count": null,
   "metadata": {},
   "outputs": [],
   "source": [
    "def convertLineToCharSeq(line):\n",
    "    ints = [int(p) for p in line.split()]\n",
    "    result = ' '.join([int2charseq(i) for i in ints])\n",
    "    return result"
   ]
  },
  {
   "cell_type": "code",
   "execution_count": null,
   "metadata": {},
   "outputs": [],
   "source": [
    "def int2charseq(int64):\n",
    "    chars = ''\n",
    "    for i in range(8):\n",
    "        numshift = i * 8\n",
    "        charidx = (int64 >> numshift) & 255\n",
    "        chars += chr(19968 + charidx) # 19968 ensures that all chars are chinese characters (not newline, space, etc)\n",
    "    return ''.join(chars)"
   ]
  },
  {
   "cell_type": "code",
   "execution_count": null,
   "metadata": {},
   "outputs": [],
   "source": [
    "bpe_path = path/'bpe_data'\n",
    "bpe_path.mkdir(exist_ok=True, parents=True)"
   ]
  },
  {
   "cell_type": "code",
   "execution_count": null,
   "metadata": {},
   "outputs": [],
   "source": [
    "# Convert target data\n",
    "lm_train_file = bpe_path/'bpe_lm_target_train.txt'\n",
    "lm_valid_file = bpe_path/'bpe_lm_target_valid.txt'\n",
    "dir_to_convert = path/'docs_target'\n",
    "generateLMTrainFiles(dir_to_convert, lm_train_file, lm_valid_file)"
   ]
  },
  {
   "cell_type": "code",
   "execution_count": null,
   "metadata": {},
   "outputs": [],
   "source": [
    "# Convert IMSLP data\n",
    "lm_train_file = bpe_path/'bpe_lm_imslp_train.txt'\n",
    "lm_valid_file = bpe_path/'bpe_lm_imslp_valid.txt'\n",
    "dir_to_convert = path/'docs_imslp'\n",
    "generateLMTrainFiles(dir_to_convert, lm_train_file, lm_valid_file)"
   ]
  },
  {
   "cell_type": "markdown",
   "metadata": {},
   "source": [
    "### Prep data for classification"
   ]
  },
  {
   "cell_type": "code",
   "execution_count": null,
   "metadata": {},
   "outputs": [],
   "source": [
    "def convertSingleCSVFile(infile, outfile):\n",
    "    '''\n",
    "    Convert .csv file with decimal string representation of bootleg score features to\n",
    "    a .csv file with byte character representation.\n",
    "    '''\n",
    "    with open(infile, 'r') as f:\n",
    "        lines = f.readlines()\n",
    "    with open(outfile, 'w') as fout:\n",
    "        for i, line in enumerate(lines):\n",
    "            if i==0: \n",
    "                fout.write(line) # header\n",
    "            else:\n",
    "                parts = line.strip().split(',')\n",
    "                feats = parts.pop()\n",
    "                charseq = convertLineToCharSeq(feats)\n",
    "                strToWrite = ','.join(parts) + ',' + charseq + '\\n'\n",
    "                fout.write(strToWrite)"
   ]
  },
  {
   "cell_type": "code",
   "execution_count": null,
   "metadata": {},
   "outputs": [],
   "source": [
    "def convertAllCSVFiles(indir, outdir):\n",
    "    assert indir != outdir\n",
    "    os.makedirs(outdir, exist_ok = True)\n",
    "    for infile in glob.glob(f'{indir}/*.csv'):\n",
    "        print(f'Converting {os.path.basename(infile)}')\n",
    "        basename = os.path.splitext(os.path.basename(infile))[0]\n",
    "        outfile = f'{outdir}/{basename}.char.csv'\n",
    "        convertSingleCSVFile(infile, outfile)"
   ]
  },
  {
   "cell_type": "code",
   "execution_count": null,
   "metadata": {},
   "outputs": [],
   "source": [
    "convertAllCSVFiles(str(path), str(bpe_path))"
   ]
  }
 ],
 "metadata": {
  "kernelspec": {
   "display_name": "Python [conda env:env]",
   "language": "python",
   "name": "conda-env-env-py"
  },
  "language_info": {
   "codemirror_mode": {
    "name": "ipython",
    "version": 3
   },
   "file_extension": ".py",
   "mimetype": "text/x-python",
   "name": "python",
   "nbconvert_exporter": "python",
   "pygments_lexer": "ipython3",
   "version": "3.7.11"
  }
 },
 "nbformat": 4,
 "nbformat_minor": 2
}

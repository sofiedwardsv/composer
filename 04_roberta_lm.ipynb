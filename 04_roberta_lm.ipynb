{
 "cells": [
  {
   "cell_type": "markdown",
   "metadata": {},
   "source": [
    "# Training a RoBERTa Language Model"
   ]
  },
  {
   "cell_type": "markdown",
   "metadata": {},
   "source": [
    "In this notebook we train a RoBERTa language model on the IMSLP and/or target data.  This code can be used to train two different language models: (a) one that is trained on target data, and (b) one that is trained on IMSLP data and finetuned on target data.  For (a), you can stop at the end of the section entitled \"Train Language Model\".\n",
    "\n",
    "Note that this notebook needs to be run in a different virtual environment from previous notebooks because it requires a different version of the transformers library than is used by the fastai library.  This environment is specified in requirements_lm.txt."
   ]
  },
  {
   "cell_type": "code",
   "execution_count": 1,
   "metadata": {},
   "outputs": [],
   "source": [
    "%matplotlib inline"
   ]
  },
  {
   "cell_type": "code",
   "execution_count": 2,
   "metadata": {},
   "outputs": [],
   "source": [
    "from pathlib import Path\n",
    "import json\n",
    "from train_utils import plotLosses"
   ]
  },
  {
   "cell_type": "code",
   "execution_count": 3,
   "metadata": {},
   "outputs": [],
   "source": [
    "bpe_path = Path('/home/tjtsai/.fastai/data/bscore_lm/bpe_data')\n",
    "bpe_path.mkdir(exist_ok=True, parents=True)"
   ]
  },
  {
   "cell_type": "markdown",
   "metadata": {},
   "source": [
    "### Train Language Model"
   ]
  },
  {
   "cell_type": "code",
   "execution_count": 4,
   "metadata": {},
   "outputs": [],
   "source": [
    "data_type = 'target' # 'target' or 'imslp'"
   ]
  },
  {
   "cell_type": "code",
   "execution_count": 5,
   "metadata": {},
   "outputs": [],
   "source": [
    "lm_train_file = bpe_path/f'bpe_lm_{data_type}_train.txt'\n",
    "lm_valid_file = bpe_path/f'bpe_lm_{data_type}_valid.txt'\n",
    "tok_path = bpe_path/f'tokenizer_{data_type}'\n",
    "output_model_path = bpe_path/f'models/roberta_train-{data_type}_lm'"
   ]
  },
  {
   "cell_type": "code",
   "execution_count": 6,
   "metadata": {},
   "outputs": [],
   "source": [
    "# changes from defaults:\n",
    "# vocab_size: 30522 -> 30000\n",
    "# num_hidden_layers: 12 -> 6\n",
    "# max_position_embeddings: 512 -> 514 (or 258)\n",
    "# type_vocab_size: 2 -> 1\n",
    "# layer_norm_eps: 1e-12 -> 1e-5\n",
    "config = {\n",
    "    \"architectures\": [\n",
    "        \"RobertaForMaskedLM\"\n",
    "    ],\n",
    "    \"attention_probs_dropout_prob\": 0.1,\n",
    "    \"hidden_act\": \"gelu\",\n",
    "    \"hidden_dropout_prob\": 0.1,\n",
    "    \"hidden_size\": 768,\n",
    "    \"initializer_range\": 0.02,\n",
    "    \"intermediate_size\": 3072,\n",
    "    \"layer_norm_eps\": 1e-05,\n",
    "    \"max_position_embeddings\": 514,\n",
    "    \"model_type\": \"roberta\",\n",
    "    \"num_attention_heads\": 12,\n",
    "    \"num_hidden_layers\": 6,\n",
    "    \"type_vocab_size\": 1,\n",
    "    \"vocab_size\": 30000\n",
    "    }"
   ]
  },
  {
   "cell_type": "code",
   "execution_count": 7,
   "metadata": {},
   "outputs": [],
   "source": [
    "with open(f\"{tok_path}/config.json\", 'w') as fp:\n",
    "    json.dump(config, fp)"
   ]
  },
  {
   "cell_type": "code",
   "execution_count": 8,
   "metadata": {},
   "outputs": [],
   "source": [
    "cmd = f\"\"\"\n",
    "python ./run_language_modeling.py\n",
    "--train_data_file {lm_train_file}\n",
    "--output_dir {output_model_path}\n",
    "--model_type roberta\n",
    "--eval_data_file {lm_valid_file}\n",
    "--line_by_line\n",
    "--mlm\n",
    "--config_name {tok_path}\n",
    "--tokenizer_name {tok_path}\n",
    "--do_train\n",
    "--do_eval\n",
    "--evaluate_during_training\n",
    "--per_gpu_train_batch_size 20\n",
    "--per_gpu_eval_batch_size 20\n",
    "--learning_rate 1e-4\n",
    "--num_train_epochs 60\n",
    "--logging_steps 163\n",
    "--save_steps 815\n",
    "--seed 42\n",
    "--overwrite_output_dir\n",
    "\"\"\".replace(\"\\n\", \" \")\n",
    "#--should_continue'\n",
    "#--save_total_limit 2\n",
    "\n",
    "# target ctx258: batch 26, epoch = 126 steps, 60 epochs\n",
    "# imslp ctx258: batch 26, epoch = 4419 steps, 8 epochs\n",
    "# target ctx514: batch 20, epoch = 163 steps, 60 epochs\n",
    "# imslp ctx514: batch 20, epoch = 5744 steps, 8 epochs"
   ]
  },
  {
   "cell_type": "code",
   "execution_count": 9,
   "metadata": {},
   "outputs": [],
   "source": [
    "!echo {cmd} > train_lm.sh"
   ]
  },
  {
   "cell_type": "code",
   "execution_count": 10,
   "metadata": {},
   "outputs": [],
   "source": [
    "# you may need to run this in a bash shell with correct virtual environment\n",
    "#!./train_roberta.sh"
   ]
  },
  {
   "cell_type": "code",
   "execution_count": 11,
   "metadata": {},
   "outputs": [
    {
     "data": {
      "image/png": "[encoded data removed]",
      "text/plain": [
       "<Figure size 432x288 with 1 Axes>"
      ]
     },
     "metadata": {
      "needs_background": "light"
     },
     "output_type": "display_data"
    }
   ],
   "source": [
    "plotLosses(output_model_path/'eval_results.txt')"
   ]
  },
  {
   "cell_type": "markdown",
   "metadata": {},
   "source": [
    "### Finetune Language Model"
   ]
  },
  {
   "cell_type": "markdown",
   "metadata": {},
   "source": [
    "This section only applies for the LM trained on IMSLP data."
   ]
  },
  {
   "cell_type": "code",
   "execution_count": 12,
   "metadata": {},
   "outputs": [],
   "source": [
    "finetuned_models_path = bpe_path/'models/roberta_train-imslp_finetune-target_lm'\n",
    "lm_train_file = bpe_path/'bpe_lm_target_train.txt'\n",
    "lm_valid_file = bpe_path/'bpe_lm_target_valid.txt'"
   ]
  },
  {
   "cell_type": "code",
   "execution_count": 13,
   "metadata": {},
   "outputs": [],
   "source": [
    "cmd = f\"\"\"\n",
    "python ./run_language_modeling.py\n",
    "--train_data_file {lm_train_file}\n",
    "--output_dir {finetuned_models_path}\n",
    "--model_type roberta\n",
    "--eval_data_file {lm_valid_file}\n",
    "--line_by_line\n",
    "--model_name_or_path {output_model_path}\n",
    "--tokenizer_name {output_model_path}\n",
    "--mlm\n",
    "--do_train\n",
    "--do_eval\n",
    "--evaluate_during_training\n",
    "--per_gpu_train_batch_size 20\n",
    "--per_gpu_eval_batch_size 20\n",
    "--learning_rate 5e-5\n",
    "--num_train_epochs 10\n",
    "--logging_steps 163\n",
    "--save_steps 326\n",
    "--seed 42\n",
    "--overwrite_output_dir\n",
    "\"\"\".replace(\"\\n\", \" \")\n",
    "#--should_continue\n",
    "#--save_total_limit 2"
   ]
  },
  {
   "cell_type": "code",
   "execution_count": 14,
   "metadata": {},
   "outputs": [],
   "source": [
    "!echo {cmd} > train_lm.sh"
   ]
  },
  {
   "cell_type": "code",
   "execution_count": null,
   "metadata": {},
   "outputs": [],
   "source": [
    "# you may need to run this in a bash shell with different virtual environment\n",
    "#!./train_roberta.sh"
   ]
  },
  {
   "cell_type": "code",
   "execution_count": 15,
   "metadata": {},
   "outputs": [
    {
     "data": {
      "image/png": "[encoded data removed]",
      "text/plain": [
       "<Figure size 432x288 with 1 Axes>"
      ]
     },
     "metadata": {
      "needs_background": "light"
     },
     "output_type": "display_data"
    }
   ],
   "source": [
    "plotLosses(finetuned_models_path/'eval_results.txt')"
   ]
  }
 ],
 "metadata": {
  "kernelspec": {
   "display_name": "PianoStyleEmbedding",
   "language": "python",
   "name": "pianostyleembedding"
  },
  "language_info": {
   "codemirror_mode": {
    "name": "ipython",
    "version": 3
   },
   "file_extension": ".py",
   "mimetype": "text/x-python",
   "name": "python",
   "nbconvert_exporter": "python",
   "pygments_lexer": "ipython3",
   "version": "3.7.4"
  },
  "toc": {
   "base_numbering": 1,
   "nav_menu": {},
   "number_sections": false,
   "sideBar": true,
   "skip_h1_title": true,
   "title_cell": "Table of Contents",
   "title_sidebar": "Contents",
   "toc_cell": false,
   "toc_position": {},
   "toc_section_display": true,
   "toc_window_display": false
  }
 },
 "nbformat": 4,
 "nbformat_minor": 2
}
